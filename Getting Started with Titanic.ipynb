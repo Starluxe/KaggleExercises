{
 "cells": [
  {
   "cell_type": "markdown",
   "id": "496944d1",
   "metadata": {},
   "source": [
    "# Titanic - Machine Learning from Disaster\n",
    "![Titanic Image](https://miro.medium.com/max/1400/1*TD1TlRu96o_gDrM-NiBwpQ.jpeg)\n",
    "## Kaggle competition - Luciano Guerra\n",
    "[Kaggle](https://www.kaggle.com/c/titanic/data)\n",
    "\n",
    "### Overview \n",
    "\n",
    "The data has been split into two groups:\n",
    "\n",
    "- training set (train.csv)\n",
    "- test set (test.csv)\n",
    "\n",
    "The training set should be used to build your machine learning models. For the training set, we provide the outcome (also known as the “ground truth”) for each passenger. Your model will be based on “features” like passengers’ gender and class. You can also use feature engineering to create new features.\n",
    "\n",
    "The test set should be used to see how well your model performs on unseen data. For the test set, we do not provide the ground truth for each passenger. It is your job to predict these outcomes. For each passenger in the test set, use the model you trained to predict whether or not they survived the sinking of the Titanic.\n",
    "\n",
    "We also include gender_submission.csv, a set of predictions that assume all and only female passengers survive, as an example of what a submission file should look like.\n",
    "\n",
    "### Data Dictionary \n",
    "\n",
    "Variable | Definition | Key\n",
    "- | - | -\n",
    "survival | Survival | 0 = No, 1 = Yes\n",
    "pclass |Ticket class | 1 = 1st, 2 = 2nd, 3 = 3rd\n",
    "sex\t| Sex\t| |\n",
    "Age\t|Age in years | |\t\n",
    "sibsp\t| # of siblings / spouses aboard the Titanic ||\n",
    "parch | # of parents / children aboard the Titanic\t||\n",
    "ticket | Ticket number\t||\n",
    "fare | Passenger fare\t||\n",
    "cabin | Cabin number\t||\n",
    "embarked | Port of Embarkation\t| C = Cherbourg, Q = Queenstown, S = Southampton\n",
    "\n",
    "### Variable Notes\n",
    "\n",
    "__pclass__: A proxy for socio-economic status (SES)\n",
    "1st = Upper\n",
    "2nd = Middle\n",
    "3rd = Lower\n",
    "\n",
    "__age__: Age is fractional if less than 1. If the age is estimated, is it in the form of xx.5\n",
    "\n",
    "__sibsp__: The dataset defines family relations in this way...\n",
    "Sibling = brother, sister, stepbrother, stepsister\n",
    "Spouse = husband, wife (mistresses and fiancés were ignored)\n",
    "\n",
    "__parch__: The dataset defines family relations in this way...\n",
    "Parent = mother, father\n",
    "Child = daughter, son, stepdaughter, stepson\n",
    "Some children travelled only with a nanny, therefore parch=0 for them."
   ]
  },
  {
   "cell_type": "markdown",
   "id": "cf517dfe",
   "metadata": {},
   "source": [
    "## Start ML project\n",
    "### Predefined Steps as Hands On Machine Learning _(Auréline Géron)_\n",
    "1. Frame the Problem and Look at the Big Picture\n",
    "2. Get the data\n",
    "3. Explore the data insights\n",
    "4. Prepare the data\n",
    "5. Explore many different models\n",
    "6. Fine-Tune your model and combine them into a great solution\n",
    "7. Present your solution\n",
    "8. Launch, monitor and maintain your system"
   ]
  },
  {
   "cell_type": "markdown",
   "id": "39934656",
   "metadata": {},
   "source": [
    "## 1. Frame the Problem\n",
    "This project takes part in a series of projects to improve my ML skills. This is the first project made and it should be based in a popular Kaggle competition. The target should be to obtain a good result in the Kaggle competition.\n",
    "\n",
    "This good result should be if the accuracy in the test data is higher than 0.98.\n",
    "\n",
    "The solution of this project should be a .csv file with the correct structure to be submited in the Kaggle form.\n"
   ]
  },
  {
   "cell_type": "markdown",
   "id": "cf187a43",
   "metadata": {},
   "source": [
    "## 2. Get the Data\n",
    "\n",
    "Data is provided by Kaggle to perform the competition"
   ]
  },
  {
   "cell_type": "code",
   "execution_count": 1,
   "id": "6eaaccf9",
   "metadata": {},
   "outputs": [],
   "source": [
    "import numpy as np\n",
    "import pandas as pd\n",
    "import os"
   ]
  },
  {
   "cell_type": "code",
   "execution_count": 2,
   "id": "9da939a4",
   "metadata": {},
   "outputs": [
    {
     "name": "stdout",
     "output_type": "stream",
     "text": [
      "./data/titanic.zip\n",
      "./data/train.csv\n",
      "./data/test.csv\n",
      "./data/gender_submission.csv\n"
     ]
    }
   ],
   "source": [
    "for dirname, _, filenames in os.walk('./data'):\n",
    "    for filename in filenames:\n",
    "        print(os.path.join(dirname, filename))"
   ]
  },
  {
   "cell_type": "markdown",
   "id": "6ff667eb",
   "metadata": {},
   "source": [
    "## 3. Explore the data"
   ]
  },
  {
   "cell_type": "code",
   "execution_count": 3,
   "id": "e5710e98",
   "metadata": {},
   "outputs": [
    {
     "data": {
      "text/html": [
       "<div>\n",
       "<style scoped>\n",
       "    .dataframe tbody tr th:only-of-type {\n",
       "        vertical-align: middle;\n",
       "    }\n",
       "\n",
       "    .dataframe tbody tr th {\n",
       "        vertical-align: top;\n",
       "    }\n",
       "\n",
       "    .dataframe thead th {\n",
       "        text-align: right;\n",
       "    }\n",
       "</style>\n",
       "<table border=\"1\" class=\"dataframe\">\n",
       "  <thead>\n",
       "    <tr style=\"text-align: right;\">\n",
       "      <th></th>\n",
       "      <th>PassengerId</th>\n",
       "      <th>Survived</th>\n",
       "      <th>Pclass</th>\n",
       "      <th>Name</th>\n",
       "      <th>Sex</th>\n",
       "      <th>Age</th>\n",
       "      <th>SibSp</th>\n",
       "      <th>Parch</th>\n",
       "      <th>Ticket</th>\n",
       "      <th>Fare</th>\n",
       "      <th>Cabin</th>\n",
       "      <th>Embarked</th>\n",
       "    </tr>\n",
       "  </thead>\n",
       "  <tbody>\n",
       "    <tr>\n",
       "      <th>0</th>\n",
       "      <td>1</td>\n",
       "      <td>0</td>\n",
       "      <td>3</td>\n",
       "      <td>Braund, Mr. Owen Harris</td>\n",
       "      <td>male</td>\n",
       "      <td>22.0</td>\n",
       "      <td>1</td>\n",
       "      <td>0</td>\n",
       "      <td>A/5 21171</td>\n",
       "      <td>7.2500</td>\n",
       "      <td>NaN</td>\n",
       "      <td>S</td>\n",
       "    </tr>\n",
       "    <tr>\n",
       "      <th>1</th>\n",
       "      <td>2</td>\n",
       "      <td>1</td>\n",
       "      <td>1</td>\n",
       "      <td>Cumings, Mrs. John Bradley (Florence Briggs Th...</td>\n",
       "      <td>female</td>\n",
       "      <td>38.0</td>\n",
       "      <td>1</td>\n",
       "      <td>0</td>\n",
       "      <td>PC 17599</td>\n",
       "      <td>71.2833</td>\n",
       "      <td>C85</td>\n",
       "      <td>C</td>\n",
       "    </tr>\n",
       "    <tr>\n",
       "      <th>2</th>\n",
       "      <td>3</td>\n",
       "      <td>1</td>\n",
       "      <td>3</td>\n",
       "      <td>Heikkinen, Miss. Laina</td>\n",
       "      <td>female</td>\n",
       "      <td>26.0</td>\n",
       "      <td>0</td>\n",
       "      <td>0</td>\n",
       "      <td>STON/O2. 3101282</td>\n",
       "      <td>7.9250</td>\n",
       "      <td>NaN</td>\n",
       "      <td>S</td>\n",
       "    </tr>\n",
       "    <tr>\n",
       "      <th>3</th>\n",
       "      <td>4</td>\n",
       "      <td>1</td>\n",
       "      <td>1</td>\n",
       "      <td>Futrelle, Mrs. Jacques Heath (Lily May Peel)</td>\n",
       "      <td>female</td>\n",
       "      <td>35.0</td>\n",
       "      <td>1</td>\n",
       "      <td>0</td>\n",
       "      <td>113803</td>\n",
       "      <td>53.1000</td>\n",
       "      <td>C123</td>\n",
       "      <td>S</td>\n",
       "    </tr>\n",
       "    <tr>\n",
       "      <th>4</th>\n",
       "      <td>5</td>\n",
       "      <td>0</td>\n",
       "      <td>3</td>\n",
       "      <td>Allen, Mr. William Henry</td>\n",
       "      <td>male</td>\n",
       "      <td>35.0</td>\n",
       "      <td>0</td>\n",
       "      <td>0</td>\n",
       "      <td>373450</td>\n",
       "      <td>8.0500</td>\n",
       "      <td>NaN</td>\n",
       "      <td>S</td>\n",
       "    </tr>\n",
       "  </tbody>\n",
       "</table>\n",
       "</div>"
      ],
      "text/plain": [
       "   PassengerId  Survived  Pclass  \\\n",
       "0            1         0       3   \n",
       "1            2         1       1   \n",
       "2            3         1       3   \n",
       "3            4         1       1   \n",
       "4            5         0       3   \n",
       "\n",
       "                                                Name     Sex   Age  SibSp  \\\n",
       "0                            Braund, Mr. Owen Harris    male  22.0      1   \n",
       "1  Cumings, Mrs. John Bradley (Florence Briggs Th...  female  38.0      1   \n",
       "2                             Heikkinen, Miss. Laina  female  26.0      0   \n",
       "3       Futrelle, Mrs. Jacques Heath (Lily May Peel)  female  35.0      1   \n",
       "4                           Allen, Mr. William Henry    male  35.0      0   \n",
       "\n",
       "   Parch            Ticket     Fare Cabin Embarked  \n",
       "0      0         A/5 21171   7.2500   NaN        S  \n",
       "1      0          PC 17599  71.2833   C85        C  \n",
       "2      0  STON/O2. 3101282   7.9250   NaN        S  \n",
       "3      0            113803  53.1000  C123        S  \n",
       "4      0            373450   8.0500   NaN        S  "
      ]
     },
     "execution_count": 3,
     "metadata": {},
     "output_type": "execute_result"
    }
   ],
   "source": [
    "train_data = pd.read_csv(\"./data/train.csv\")\n",
    "train_data.head()"
   ]
  },
  {
   "cell_type": "code",
   "execution_count": 4,
   "id": "85f495b2",
   "metadata": {},
   "outputs": [
    {
     "name": "stdout",
     "output_type": "stream",
     "text": [
      "<class 'pandas.core.frame.DataFrame'>\n",
      "RangeIndex: 891 entries, 0 to 890\n",
      "Data columns (total 12 columns):\n",
      " #   Column       Non-Null Count  Dtype  \n",
      "---  ------       --------------  -----  \n",
      " 0   PassengerId  891 non-null    int64  \n",
      " 1   Survived     891 non-null    int64  \n",
      " 2   Pclass       891 non-null    int64  \n",
      " 3   Name         891 non-null    object \n",
      " 4   Sex          891 non-null    object \n",
      " 5   Age          714 non-null    float64\n",
      " 6   SibSp        891 non-null    int64  \n",
      " 7   Parch        891 non-null    int64  \n",
      " 8   Ticket       891 non-null    object \n",
      " 9   Fare         891 non-null    float64\n",
      " 10  Cabin        204 non-null    object \n",
      " 11  Embarked     889 non-null    object \n",
      "dtypes: float64(2), int64(5), object(5)\n",
      "memory usage: 83.7+ KB\n"
     ]
    }
   ],
   "source": [
    "train_data.info()"
   ]
  },
  {
   "cell_type": "markdown",
   "id": "21106c1a",
   "metadata": {},
   "source": [
    "We can see there are 891 records, but Age, Cabin and Embarked are not fully completed."
   ]
  },
  {
   "cell_type": "code",
   "execution_count": 5,
   "id": "5aa43e40",
   "metadata": {},
   "outputs": [
    {
     "data": {
      "text/plain": [
       "(True, False)"
      ]
     },
     "execution_count": 5,
     "metadata": {},
     "output_type": "execute_result"
    }
   ],
   "source": [
    "# Check if the PassengerID could be used like index\n",
    "train_data[\"PassengerId\"].is_unique , train_data.Survived.is_unique"
   ]
  },
  {
   "cell_type": "markdown",
   "id": "7012a30a",
   "metadata": {},
   "source": [
    "Analizamos las estadísticas del dataset"
   ]
  },
  {
   "cell_type": "code",
   "execution_count": 6,
   "id": "fe940257",
   "metadata": {
    "scrolled": true
   },
   "outputs": [
    {
     "data": {
      "text/html": [
       "<div>\n",
       "<style scoped>\n",
       "    .dataframe tbody tr th:only-of-type {\n",
       "        vertical-align: middle;\n",
       "    }\n",
       "\n",
       "    .dataframe tbody tr th {\n",
       "        vertical-align: top;\n",
       "    }\n",
       "\n",
       "    .dataframe thead th {\n",
       "        text-align: right;\n",
       "    }\n",
       "</style>\n",
       "<table border=\"1\" class=\"dataframe\">\n",
       "  <thead>\n",
       "    <tr style=\"text-align: right;\">\n",
       "      <th></th>\n",
       "      <th>PassengerId</th>\n",
       "      <th>Survived</th>\n",
       "      <th>Pclass</th>\n",
       "      <th>Age</th>\n",
       "      <th>SibSp</th>\n",
       "      <th>Parch</th>\n",
       "      <th>Fare</th>\n",
       "    </tr>\n",
       "  </thead>\n",
       "  <tbody>\n",
       "    <tr>\n",
       "      <th>count</th>\n",
       "      <td>891.000000</td>\n",
       "      <td>891.000000</td>\n",
       "      <td>891.000000</td>\n",
       "      <td>714.000000</td>\n",
       "      <td>891.000000</td>\n",
       "      <td>891.000000</td>\n",
       "      <td>891.000000</td>\n",
       "    </tr>\n",
       "    <tr>\n",
       "      <th>mean</th>\n",
       "      <td>446.000000</td>\n",
       "      <td>0.383838</td>\n",
       "      <td>2.308642</td>\n",
       "      <td>29.699118</td>\n",
       "      <td>0.523008</td>\n",
       "      <td>0.381594</td>\n",
       "      <td>32.204208</td>\n",
       "    </tr>\n",
       "    <tr>\n",
       "      <th>std</th>\n",
       "      <td>257.353842</td>\n",
       "      <td>0.486592</td>\n",
       "      <td>0.836071</td>\n",
       "      <td>14.526497</td>\n",
       "      <td>1.102743</td>\n",
       "      <td>0.806057</td>\n",
       "      <td>49.693429</td>\n",
       "    </tr>\n",
       "    <tr>\n",
       "      <th>min</th>\n",
       "      <td>1.000000</td>\n",
       "      <td>0.000000</td>\n",
       "      <td>1.000000</td>\n",
       "      <td>0.420000</td>\n",
       "      <td>0.000000</td>\n",
       "      <td>0.000000</td>\n",
       "      <td>0.000000</td>\n",
       "    </tr>\n",
       "    <tr>\n",
       "      <th>25%</th>\n",
       "      <td>223.500000</td>\n",
       "      <td>0.000000</td>\n",
       "      <td>2.000000</td>\n",
       "      <td>20.125000</td>\n",
       "      <td>0.000000</td>\n",
       "      <td>0.000000</td>\n",
       "      <td>7.910400</td>\n",
       "    </tr>\n",
       "    <tr>\n",
       "      <th>50%</th>\n",
       "      <td>446.000000</td>\n",
       "      <td>0.000000</td>\n",
       "      <td>3.000000</td>\n",
       "      <td>28.000000</td>\n",
       "      <td>0.000000</td>\n",
       "      <td>0.000000</td>\n",
       "      <td>14.454200</td>\n",
       "    </tr>\n",
       "    <tr>\n",
       "      <th>75%</th>\n",
       "      <td>668.500000</td>\n",
       "      <td>1.000000</td>\n",
       "      <td>3.000000</td>\n",
       "      <td>38.000000</td>\n",
       "      <td>1.000000</td>\n",
       "      <td>0.000000</td>\n",
       "      <td>31.000000</td>\n",
       "    </tr>\n",
       "    <tr>\n",
       "      <th>max</th>\n",
       "      <td>891.000000</td>\n",
       "      <td>1.000000</td>\n",
       "      <td>3.000000</td>\n",
       "      <td>80.000000</td>\n",
       "      <td>8.000000</td>\n",
       "      <td>6.000000</td>\n",
       "      <td>512.329200</td>\n",
       "    </tr>\n",
       "  </tbody>\n",
       "</table>\n",
       "</div>"
      ],
      "text/plain": [
       "       PassengerId    Survived      Pclass         Age       SibSp  \\\n",
       "count   891.000000  891.000000  891.000000  714.000000  891.000000   \n",
       "mean    446.000000    0.383838    2.308642   29.699118    0.523008   \n",
       "std     257.353842    0.486592    0.836071   14.526497    1.102743   \n",
       "min       1.000000    0.000000    1.000000    0.420000    0.000000   \n",
       "25%     223.500000    0.000000    2.000000   20.125000    0.000000   \n",
       "50%     446.000000    0.000000    3.000000   28.000000    0.000000   \n",
       "75%     668.500000    1.000000    3.000000   38.000000    1.000000   \n",
       "max     891.000000    1.000000    3.000000   80.000000    8.000000   \n",
       "\n",
       "            Parch        Fare  \n",
       "count  891.000000  891.000000  \n",
       "mean     0.381594   32.204208  \n",
       "std      0.806057   49.693429  \n",
       "min      0.000000    0.000000  \n",
       "25%      0.000000    7.910400  \n",
       "50%      0.000000   14.454200  \n",
       "75%      0.000000   31.000000  \n",
       "max      6.000000  512.329200  "
      ]
     },
     "execution_count": 6,
     "metadata": {},
     "output_type": "execute_result"
    }
   ],
   "source": [
    "train_data.describe()"
   ]
  },
  {
   "cell_type": "code",
   "execution_count": 7,
   "id": "dea319bd",
   "metadata": {},
   "outputs": [
    {
     "name": "stdout",
     "output_type": "stream",
     "text": [
      "Number of passengers that survive the Titanic sinking:  342\n",
      "Ratio of survivors:  0.3838383838383838\n"
     ]
    }
   ],
   "source": [
    "# Check the ratio of survived  passengers\n",
    "print(\"Number of passengers that survive the Titanic sinking: \", train_data.Survived.sum())\n",
    "print(\"Ratio of survivors: \", train_data.Survived.sum() / train_data.Survived.count())"
   ]
  },
  {
   "cell_type": "code",
   "execution_count": 8,
   "id": "4ba8881a",
   "metadata": {
    "scrolled": true
   },
   "outputs": [
    {
     "data": {
      "text/plain": [
       "array([[<AxesSubplot:title={'center':'PassengerId'}>,\n",
       "        <AxesSubplot:title={'center':'Survived'}>,\n",
       "        <AxesSubplot:title={'center':'Pclass'}>],\n",
       "       [<AxesSubplot:title={'center':'Age'}>,\n",
       "        <AxesSubplot:title={'center':'SibSp'}>,\n",
       "        <AxesSubplot:title={'center':'Parch'}>],\n",
       "       [<AxesSubplot:title={'center':'Fare'}>, <AxesSubplot:>,\n",
       "        <AxesSubplot:>]], dtype=object)"
      ]
     },
     "execution_count": 8,
     "metadata": {},
     "output_type": "execute_result"
    },
    {
     "data": {
      "image/png": "[encoded data removed]",
      "text/plain": [
       "<Figure size 720x720 with 9 Axes>"
      ]
     },
     "metadata": {
      "needs_background": "light"
     },
     "output_type": "display_data"
    }
   ],
   "source": [
    "# First look at numerical information\n",
    "train_data.hist(figsize=(10,10))"
   ]
  },
  {
   "cell_type": "markdown",
   "id": "29de8341",
   "metadata": {},
   "source": [
    "We can assume there are much more people in the ship with 3 class, whit age between 20 and 30 years old, and with no relatives o the trip."
   ]
  },
  {
   "cell_type": "markdown",
   "id": "6e89db25",
   "metadata": {},
   "source": [
    "## 4. Prepare the data"
   ]
  },
  {
   "cell_type": "markdown",
   "id": "8a56428d",
   "metadata": {},
   "source": [
    "We have different features that could be useful and other that could not be interesting in a first view.\n",
    "- Initial interesting features:\n",
    " - PassengerID, Survived (target), PcClass, Sex, Age, SibSp, Parch, Fare\n",
    "- Initial not interesting features:\n",
    " - Name, Ticket, Cabin\n",
    " \n",
    "The interesting features must be not categorical, so we have to transform them: PcClass, Sex. We have, as well, NaN in the age feature that we have to modify."
   ]
  },
  {
   "cell_type": "code",
   "execution_count": 13,
   "id": "0badb071",
   "metadata": {},
   "outputs": [],
   "source": [
    "features = ['PassengerId', 'Pclass', 'Sex', 'Age', 'SibSp', 'Parch', 'Fare', 'Survived']\n",
    "train_data = train_data[features]"
   ]
  },
  {
   "cell_type": "code",
   "execution_count": 14,
   "id": "681937ff",
   "metadata": {},
   "outputs": [
    {
     "data": {
      "text/html": [
       "<div>\n",
       "<style scoped>\n",
       "    .dataframe tbody tr th:only-of-type {\n",
       "        vertical-align: middle;\n",
       "    }\n",
       "\n",
       "    .dataframe tbody tr th {\n",
       "        vertical-align: top;\n",
       "    }\n",
       "\n",
       "    .dataframe thead th {\n",
       "        text-align: right;\n",
       "    }\n",
       "</style>\n",
       "<table border=\"1\" class=\"dataframe\">\n",
       "  <thead>\n",
       "    <tr style=\"text-align: right;\">\n",
       "      <th></th>\n",
       "      <th>PassengerId</th>\n",
       "      <th>Pclass</th>\n",
       "      <th>Sex</th>\n",
       "      <th>Age</th>\n",
       "      <th>SibSp</th>\n",
       "      <th>Parch</th>\n",
       "      <th>Fare</th>\n",
       "      <th>Survived</th>\n",
       "    </tr>\n",
       "  </thead>\n",
       "  <tbody>\n",
       "    <tr>\n",
       "      <th>0</th>\n",
       "      <td>1</td>\n",
       "      <td>3</td>\n",
       "      <td>male</td>\n",
       "      <td>22.0</td>\n",
       "      <td>1</td>\n",
       "      <td>0</td>\n",
       "      <td>7.2500</td>\n",
       "      <td>0</td>\n",
       "    </tr>\n",
       "    <tr>\n",
       "      <th>1</th>\n",
       "      <td>2</td>\n",
       "      <td>1</td>\n",
       "      <td>female</td>\n",
       "      <td>38.0</td>\n",
       "      <td>1</td>\n",
       "      <td>0</td>\n",
       "      <td>71.2833</td>\n",
       "      <td>1</td>\n",
       "    </tr>\n",
       "    <tr>\n",
       "      <th>2</th>\n",
       "      <td>3</td>\n",
       "      <td>3</td>\n",
       "      <td>female</td>\n",
       "      <td>26.0</td>\n",
       "      <td>0</td>\n",
       "      <td>0</td>\n",
       "      <td>7.9250</td>\n",
       "      <td>1</td>\n",
       "    </tr>\n",
       "    <tr>\n",
       "      <th>3</th>\n",
       "      <td>4</td>\n",
       "      <td>1</td>\n",
       "      <td>female</td>\n",
       "      <td>35.0</td>\n",
       "      <td>1</td>\n",
       "      <td>0</td>\n",
       "      <td>53.1000</td>\n",
       "      <td>1</td>\n",
       "    </tr>\n",
       "    <tr>\n",
       "      <th>4</th>\n",
       "      <td>5</td>\n",
       "      <td>3</td>\n",
       "      <td>male</td>\n",
       "      <td>35.0</td>\n",
       "      <td>0</td>\n",
       "      <td>0</td>\n",
       "      <td>8.0500</td>\n",
       "      <td>0</td>\n",
       "    </tr>\n",
       "  </tbody>\n",
       "</table>\n",
       "</div>"
      ],
      "text/plain": [
       "   PassengerId  Pclass     Sex   Age  SibSp  Parch     Fare  Survived\n",
       "0            1       3    male  22.0      1      0   7.2500         0\n",
       "1            2       1  female  38.0      1      0  71.2833         1\n",
       "2            3       3  female  26.0      0      0   7.9250         1\n",
       "3            4       1  female  35.0      1      0  53.1000         1\n",
       "4            5       3    male  35.0      0      0   8.0500         0"
      ]
     },
     "execution_count": 14,
     "metadata": {},
     "output_type": "execute_result"
    }
   ],
   "source": [
    "train_data.head()    "
   ]
  },
  {
   "cell_type": "markdown",
   "id": "c0ab7725",
   "metadata": {},
   "source": [
    "Pclass and Sex must be modified to numerical features"
   ]
  },
  {
   "cell_type": "code",
   "execution_count": 15,
   "id": "d61101c1",
   "metadata": {},
   "outputs": [],
   "source": [
    "train_data = pd.get_dummies(train_data, columns=['Pclass', 'Sex'])    "
   ]
  },
  {
   "cell_type": "code",
   "execution_count": 16,
   "id": "736e918f",
   "metadata": {},
   "outputs": [
    {
     "data": {
      "text/html": [
       "<div>\n",
       "<style scoped>\n",
       "    .dataframe tbody tr th:only-of-type {\n",
       "        vertical-align: middle;\n",
       "    }\n",
       "\n",
       "    .dataframe tbody tr th {\n",
       "        vertical-align: top;\n",
       "    }\n",
       "\n",
       "    .dataframe thead th {\n",
       "        text-align: right;\n",
       "    }\n",
       "</style>\n",
       "<table border=\"1\" class=\"dataframe\">\n",
       "  <thead>\n",
       "    <tr style=\"text-align: right;\">\n",
       "      <th></th>\n",
       "      <th>PassengerId</th>\n",
       "      <th>Age</th>\n",
       "      <th>SibSp</th>\n",
       "      <th>Parch</th>\n",
       "      <th>Fare</th>\n",
       "      <th>Survived</th>\n",
       "      <th>Pclass_1</th>\n",
       "      <th>Pclass_2</th>\n",
       "      <th>Pclass_3</th>\n",
       "      <th>Sex_female</th>\n",
       "      <th>Sex_male</th>\n",
       "    </tr>\n",
       "  </thead>\n",
       "  <tbody>\n",
       "    <tr>\n",
       "      <th>0</th>\n",
       "      <td>1</td>\n",
       "      <td>22.0</td>\n",
       "      <td>1</td>\n",
       "      <td>0</td>\n",
       "      <td>7.2500</td>\n",
       "      <td>0</td>\n",
       "      <td>0</td>\n",
       "      <td>0</td>\n",
       "      <td>1</td>\n",
       "      <td>0</td>\n",
       "      <td>1</td>\n",
       "    </tr>\n",
       "    <tr>\n",
       "      <th>1</th>\n",
       "      <td>2</td>\n",
       "      <td>38.0</td>\n",
       "      <td>1</td>\n",
       "      <td>0</td>\n",
       "      <td>71.2833</td>\n",
       "      <td>1</td>\n",
       "      <td>1</td>\n",
       "      <td>0</td>\n",
       "      <td>0</td>\n",
       "      <td>1</td>\n",
       "      <td>0</td>\n",
       "    </tr>\n",
       "    <tr>\n",
       "      <th>2</th>\n",
       "      <td>3</td>\n",
       "      <td>26.0</td>\n",
       "      <td>0</td>\n",
       "      <td>0</td>\n",
       "      <td>7.9250</td>\n",
       "      <td>1</td>\n",
       "      <td>0</td>\n",
       "      <td>0</td>\n",
       "      <td>1</td>\n",
       "      <td>1</td>\n",
       "      <td>0</td>\n",
       "    </tr>\n",
       "    <tr>\n",
       "      <th>3</th>\n",
       "      <td>4</td>\n",
       "      <td>35.0</td>\n",
       "      <td>1</td>\n",
       "      <td>0</td>\n",
       "      <td>53.1000</td>\n",
       "      <td>1</td>\n",
       "      <td>1</td>\n",
       "      <td>0</td>\n",
       "      <td>0</td>\n",
       "      <td>1</td>\n",
       "      <td>0</td>\n",
       "    </tr>\n",
       "    <tr>\n",
       "      <th>4</th>\n",
       "      <td>5</td>\n",
       "      <td>35.0</td>\n",
       "      <td>0</td>\n",
       "      <td>0</td>\n",
       "      <td>8.0500</td>\n",
       "      <td>0</td>\n",
       "      <td>0</td>\n",
       "      <td>0</td>\n",
       "      <td>1</td>\n",
       "      <td>0</td>\n",
       "      <td>1</td>\n",
       "    </tr>\n",
       "  </tbody>\n",
       "</table>\n",
       "</div>"
      ],
      "text/plain": [
       "   PassengerId   Age  SibSp  Parch     Fare  Survived  Pclass_1  Pclass_2  \\\n",
       "0            1  22.0      1      0   7.2500         0         0         0   \n",
       "1            2  38.0      1      0  71.2833         1         1         0   \n",
       "2            3  26.0      0      0   7.9250         1         0         0   \n",
       "3            4  35.0      1      0  53.1000         1         1         0   \n",
       "4            5  35.0      0      0   8.0500         0         0         0   \n",
       "\n",
       "   Pclass_3  Sex_female  Sex_male  \n",
       "0         1           0         1  \n",
       "1         0           1         0  \n",
       "2         1           1         0  \n",
       "3         0           1         0  \n",
       "4         1           0         1  "
      ]
     },
     "execution_count": 16,
     "metadata": {},
     "output_type": "execute_result"
    }
   ],
   "source": [
    "train_data.head()"
   ]
  },
  {
   "cell_type": "code",
   "execution_count": 17,
   "id": "8ee61bb5",
   "metadata": {},
   "outputs": [],
   "source": [
    "train_data = train_data.rename(columns={'Sex_female' : 'female', \n",
    "                       'Pclass_1' : 'C1',\n",
    "                       'Pclass_2' : 'C2',\n",
    "                       'Pclass_3' : 'C3'})"
   ]
  },
  {
   "cell_type": "code",
   "execution_count": 18,
   "id": "b5ed8913",
   "metadata": {},
   "outputs": [],
   "source": [
    "train_data = train_data.drop(['Sex_male'], axis=1)"
   ]
  },
  {
   "cell_type": "code",
   "execution_count": 19,
   "id": "87acdf56",
   "metadata": {},
   "outputs": [
    {
     "data": {
      "text/html": [
       "<div>\n",
       "<style scoped>\n",
       "    .dataframe tbody tr th:only-of-type {\n",
       "        vertical-align: middle;\n",
       "    }\n",
       "\n",
       "    .dataframe tbody tr th {\n",
       "        vertical-align: top;\n",
       "    }\n",
       "\n",
       "    .dataframe thead th {\n",
       "        text-align: right;\n",
       "    }\n",
       "</style>\n",
       "<table border=\"1\" class=\"dataframe\">\n",
       "  <thead>\n",
       "    <tr style=\"text-align: right;\">\n",
       "      <th></th>\n",
       "      <th>PassengerId</th>\n",
       "      <th>Age</th>\n",
       "      <th>SibSp</th>\n",
       "      <th>Parch</th>\n",
       "      <th>Fare</th>\n",
       "      <th>Survived</th>\n",
       "      <th>C1</th>\n",
       "      <th>C2</th>\n",
       "      <th>C3</th>\n",
       "      <th>female</th>\n",
       "    </tr>\n",
       "  </thead>\n",
       "  <tbody>\n",
       "    <tr>\n",
       "      <th>count</th>\n",
       "      <td>891.000000</td>\n",
       "      <td>714.000000</td>\n",
       "      <td>891.000000</td>\n",
       "      <td>891.000000</td>\n",
       "      <td>891.000000</td>\n",
       "      <td>891.000000</td>\n",
       "      <td>891.000000</td>\n",
       "      <td>891.000000</td>\n",
       "      <td>891.000000</td>\n",
       "      <td>891.000000</td>\n",
       "    </tr>\n",
       "    <tr>\n",
       "      <th>mean</th>\n",
       "      <td>446.000000</td>\n",
       "      <td>29.699118</td>\n",
       "      <td>0.523008</td>\n",
       "      <td>0.381594</td>\n",
       "      <td>32.204208</td>\n",
       "      <td>0.383838</td>\n",
       "      <td>0.242424</td>\n",
       "      <td>0.206510</td>\n",
       "      <td>0.551066</td>\n",
       "      <td>0.352413</td>\n",
       "    </tr>\n",
       "    <tr>\n",
       "      <th>std</th>\n",
       "      <td>257.353842</td>\n",
       "      <td>14.526497</td>\n",
       "      <td>1.102743</td>\n",
       "      <td>0.806057</td>\n",
       "      <td>49.693429</td>\n",
       "      <td>0.486592</td>\n",
       "      <td>0.428790</td>\n",
       "      <td>0.405028</td>\n",
       "      <td>0.497665</td>\n",
       "      <td>0.477990</td>\n",
       "    </tr>\n",
       "    <tr>\n",
       "      <th>min</th>\n",
       "      <td>1.000000</td>\n",
       "      <td>0.420000</td>\n",
       "      <td>0.000000</td>\n",
       "      <td>0.000000</td>\n",
       "      <td>0.000000</td>\n",
       "      <td>0.000000</td>\n",
       "      <td>0.000000</td>\n",
       "      <td>0.000000</td>\n",
       "      <td>0.000000</td>\n",
       "      <td>0.000000</td>\n",
       "    </tr>\n",
       "    <tr>\n",
       "      <th>25%</th>\n",
       "      <td>223.500000</td>\n",
       "      <td>20.125000</td>\n",
       "      <td>0.000000</td>\n",
       "      <td>0.000000</td>\n",
       "      <td>7.910400</td>\n",
       "      <td>0.000000</td>\n",
       "      <td>0.000000</td>\n",
       "      <td>0.000000</td>\n",
       "      <td>0.000000</td>\n",
       "      <td>0.000000</td>\n",
       "    </tr>\n",
       "    <tr>\n",
       "      <th>50%</th>\n",
       "      <td>446.000000</td>\n",
       "      <td>28.000000</td>\n",
       "      <td>0.000000</td>\n",
       "      <td>0.000000</td>\n",
       "      <td>14.454200</td>\n",
       "      <td>0.000000</td>\n",
       "      <td>0.000000</td>\n",
       "      <td>0.000000</td>\n",
       "      <td>1.000000</td>\n",
       "      <td>0.000000</td>\n",
       "    </tr>\n",
       "    <tr>\n",
       "      <th>75%</th>\n",
       "      <td>668.500000</td>\n",
       "      <td>38.000000</td>\n",
       "      <td>1.000000</td>\n",
       "      <td>0.000000</td>\n",
       "      <td>31.000000</td>\n",
       "      <td>1.000000</td>\n",
       "      <td>0.000000</td>\n",
       "      <td>0.000000</td>\n",
       "      <td>1.000000</td>\n",
       "      <td>1.000000</td>\n",
       "    </tr>\n",
       "    <tr>\n",
       "      <th>max</th>\n",
       "      <td>891.000000</td>\n",
       "      <td>80.000000</td>\n",
       "      <td>8.000000</td>\n",
       "      <td>6.000000</td>\n",
       "      <td>512.329200</td>\n",
       "      <td>1.000000</td>\n",
       "      <td>1.000000</td>\n",
       "      <td>1.000000</td>\n",
       "      <td>1.000000</td>\n",
       "      <td>1.000000</td>\n",
       "    </tr>\n",
       "  </tbody>\n",
       "</table>\n",
       "</div>"
      ],
      "text/plain": [
       "       PassengerId         Age       SibSp       Parch        Fare  \\\n",
       "count   891.000000  714.000000  891.000000  891.000000  891.000000   \n",
       "mean    446.000000   29.699118    0.523008    0.381594   32.204208   \n",
       "std     257.353842   14.526497    1.102743    0.806057   49.693429   \n",
       "min       1.000000    0.420000    0.000000    0.000000    0.000000   \n",
       "25%     223.500000   20.125000    0.000000    0.000000    7.910400   \n",
       "50%     446.000000   28.000000    0.000000    0.000000   14.454200   \n",
       "75%     668.500000   38.000000    1.000000    0.000000   31.000000   \n",
       "max     891.000000   80.000000    8.000000    6.000000  512.329200   \n",
       "\n",
       "         Survived          C1          C2          C3      female  \n",
       "count  891.000000  891.000000  891.000000  891.000000  891.000000  \n",
       "mean     0.383838    0.242424    0.206510    0.551066    0.352413  \n",
       "std      0.486592    0.428790    0.405028    0.497665    0.477990  \n",
       "min      0.000000    0.000000    0.000000    0.000000    0.000000  \n",
       "25%      0.000000    0.000000    0.000000    0.000000    0.000000  \n",
       "50%      0.000000    0.000000    0.000000    1.000000    0.000000  \n",
       "75%      1.000000    0.000000    0.000000    1.000000    1.000000  \n",
       "max      1.000000    1.000000    1.000000    1.000000    1.000000  "
      ]
     },
     "execution_count": 19,
     "metadata": {},
     "output_type": "execute_result"
    }
   ],
   "source": [
    "train_data.describe()"
   ]
  },
  {
   "cell_type": "code",
   "execution_count": 20,
   "id": "8a203c76",
   "metadata": {},
   "outputs": [
    {
     "name": "stdout",
     "output_type": "stream",
     "text": [
      "<class 'pandas.core.frame.DataFrame'>\n",
      "RangeIndex: 891 entries, 0 to 890\n",
      "Data columns (total 10 columns):\n",
      " #   Column       Non-Null Count  Dtype  \n",
      "---  ------       --------------  -----  \n",
      " 0   PassengerId  891 non-null    int64  \n",
      " 1   Age          714 non-null    float64\n",
      " 2   SibSp        891 non-null    int64  \n",
      " 3   Parch        891 non-null    int64  \n",
      " 4   Fare         891 non-null    float64\n",
      " 5   Survived     891 non-null    int64  \n",
      " 6   C1           891 non-null    uint8  \n",
      " 7   C2           891 non-null    uint8  \n",
      " 8   C3           891 non-null    uint8  \n",
      " 9   female       891 non-null    uint8  \n",
      "dtypes: float64(2), int64(4), uint8(4)\n",
      "memory usage: 45.4 KB\n"
     ]
    }
   ],
   "source": [
    "train_data.info()"
   ]
  },
  {
   "cell_type": "markdown",
   "id": "f632ab8f",
   "metadata": {},
   "source": [
    "Now we can do a visual analysis of data"
   ]
  },
  {
   "cell_type": "code",
   "execution_count": 21,
   "id": "39077640",
   "metadata": {},
   "outputs": [
    {
     "data": {
      "text/html": [
       "<div>\n",
       "<style scoped>\n",
       "    .dataframe tbody tr th:only-of-type {\n",
       "        vertical-align: middle;\n",
       "    }\n",
       "\n",
       "    .dataframe tbody tr th {\n",
       "        vertical-align: top;\n",
       "    }\n",
       "\n",
       "    .dataframe thead th {\n",
       "        text-align: right;\n",
       "    }\n",
       "</style>\n",
       "<table border=\"1\" class=\"dataframe\">\n",
       "  <thead>\n",
       "    <tr style=\"text-align: right;\">\n",
       "      <th></th>\n",
       "      <th>PassengerId</th>\n",
       "      <th>Age</th>\n",
       "      <th>SibSp</th>\n",
       "      <th>Parch</th>\n",
       "      <th>Fare</th>\n",
       "      <th>Survived</th>\n",
       "      <th>C1</th>\n",
       "      <th>C2</th>\n",
       "      <th>C3</th>\n",
       "      <th>female</th>\n",
       "    </tr>\n",
       "  </thead>\n",
       "  <tbody>\n",
       "    <tr>\n",
       "      <th>5</th>\n",
       "      <td>6</td>\n",
       "      <td>NaN</td>\n",
       "      <td>0</td>\n",
       "      <td>0</td>\n",
       "      <td>8.4583</td>\n",
       "      <td>0</td>\n",
       "      <td>0</td>\n",
       "      <td>0</td>\n",
       "      <td>1</td>\n",
       "      <td>0</td>\n",
       "    </tr>\n",
       "    <tr>\n",
       "      <th>17</th>\n",
       "      <td>18</td>\n",
       "      <td>NaN</td>\n",
       "      <td>0</td>\n",
       "      <td>0</td>\n",
       "      <td>13.0000</td>\n",
       "      <td>1</td>\n",
       "      <td>0</td>\n",
       "      <td>1</td>\n",
       "      <td>0</td>\n",
       "      <td>0</td>\n",
       "    </tr>\n",
       "    <tr>\n",
       "      <th>19</th>\n",
       "      <td>20</td>\n",
       "      <td>NaN</td>\n",
       "      <td>0</td>\n",
       "      <td>0</td>\n",
       "      <td>7.2250</td>\n",
       "      <td>1</td>\n",
       "      <td>0</td>\n",
       "      <td>0</td>\n",
       "      <td>1</td>\n",
       "      <td>1</td>\n",
       "    </tr>\n",
       "    <tr>\n",
       "      <th>26</th>\n",
       "      <td>27</td>\n",
       "      <td>NaN</td>\n",
       "      <td>0</td>\n",
       "      <td>0</td>\n",
       "      <td>7.2250</td>\n",
       "      <td>0</td>\n",
       "      <td>0</td>\n",
       "      <td>0</td>\n",
       "      <td>1</td>\n",
       "      <td>0</td>\n",
       "    </tr>\n",
       "    <tr>\n",
       "      <th>28</th>\n",
       "      <td>29</td>\n",
       "      <td>NaN</td>\n",
       "      <td>0</td>\n",
       "      <td>0</td>\n",
       "      <td>7.8792</td>\n",
       "      <td>1</td>\n",
       "      <td>0</td>\n",
       "      <td>0</td>\n",
       "      <td>1</td>\n",
       "      <td>1</td>\n",
       "    </tr>\n",
       "  </tbody>\n",
       "</table>\n",
       "</div>"
      ],
      "text/plain": [
       "    PassengerId  Age  SibSp  Parch     Fare  Survived  C1  C2  C3  female\n",
       "5             6  NaN      0      0   8.4583         0   0   0   1       0\n",
       "17           18  NaN      0      0  13.0000         1   0   1   0       0\n",
       "19           20  NaN      0      0   7.2250         1   0   0   1       1\n",
       "26           27  NaN      0      0   7.2250         0   0   0   1       0\n",
       "28           29  NaN      0      0   7.8792         1   0   0   1       1"
      ]
     },
     "execution_count": 21,
     "metadata": {},
     "output_type": "execute_result"
    }
   ],
   "source": [
    "train_temp = train_data[train_data['Age'].isna()]\n",
    "train_temp.head()"
   ]
  },
  {
   "cell_type": "code",
   "execution_count": 22,
   "id": "0df8c784",
   "metadata": {},
   "outputs": [
    {
     "data": {
      "text/plain": [
       "(0.2937853107344633, 177)"
      ]
     },
     "execution_count": 22,
     "metadata": {},
     "output_type": "execute_result"
    }
   ],
   "source": [
    "train_temp['Survived'].sum() / train_temp['Survived'].count(), train_temp['Survived'].count()"
   ]
  },
  {
   "cell_type": "code",
   "execution_count": 23,
   "id": "5368be0a",
   "metadata": {},
   "outputs": [
    {
     "data": {
      "text/plain": [
       "29.69911764705882"
      ]
     },
     "execution_count": 23,
     "metadata": {},
     "output_type": "execute_result"
    }
   ],
   "source": [
    "train_data.Age.mean()"
   ]
  },
  {
   "cell_type": "code",
   "execution_count": 24,
   "id": "0f5a24f1",
   "metadata": {},
   "outputs": [],
   "source": [
    "train_data['Age'] = train_data['Age'].fillna(train_data.Age.mean())"
   ]
  },
  {
   "cell_type": "code",
   "execution_count": 25,
   "id": "a57028f2",
   "metadata": {},
   "outputs": [
    {
     "name": "stdout",
     "output_type": "stream",
     "text": [
      "<class 'pandas.core.frame.DataFrame'>\n",
      "RangeIndex: 891 entries, 0 to 890\n",
      "Data columns (total 10 columns):\n",
      " #   Column       Non-Null Count  Dtype  \n",
      "---  ------       --------------  -----  \n",
      " 0   PassengerId  891 non-null    int64  \n",
      " 1   Age          891 non-null    float64\n",
      " 2   SibSp        891 non-null    int64  \n",
      " 3   Parch        891 non-null    int64  \n",
      " 4   Fare         891 non-null    float64\n",
      " 5   Survived     891 non-null    int64  \n",
      " 6   C1           891 non-null    uint8  \n",
      " 7   C2           891 non-null    uint8  \n",
      " 8   C3           891 non-null    uint8  \n",
      " 9   female       891 non-null    uint8  \n",
      "dtypes: float64(2), int64(4), uint8(4)\n",
      "memory usage: 45.4 KB\n"
     ]
    }
   ],
   "source": [
    "train_data.info()"
   ]
  },
  {
   "cell_type": "code",
   "execution_count": 26,
   "id": "9c007553",
   "metadata": {},
   "outputs": [
    {
     "data": {
      "text/plain": [
       "<AxesSubplot:title={'center':'Age'}, xlabel='Survived'>"
      ]
     },
     "execution_count": 26,
     "metadata": {},
     "output_type": "execute_result"
    },
    {
     "data": {
      "image/png": "[encoded data removed]",
      "text/plain": [
       "<Figure size 576x576 with 1 Axes>"
      ]
     },
     "metadata": {
      "needs_background": "light"
     },
     "output_type": "display_data"
    }
   ],
   "source": [
    "train_data.boxplot(column='Age', by='Survived', figsize=(8,8))"
   ]
  },
  {
   "cell_type": "code",
   "execution_count": 27,
   "id": "a3cf51a0",
   "metadata": {},
   "outputs": [
    {
     "data": {
      "text/plain": [
       "<AxesSubplot:title={'center':'Fare'}, xlabel='Survived'>"
      ]
     },
     "execution_count": 27,
     "metadata": {},
     "output_type": "execute_result"
    },
    {
     "data": {
      "image/png": "[encoded data removed]",
      "text/plain": [
       "<Figure size 576x576 with 1 Axes>"
      ]
     },
     "metadata": {
      "needs_background": "light"
     },
     "output_type": "display_data"
    }
   ],
   "source": [
    "train_data.boxplot(column='Fare', by='Survived', figsize=(8,8))"
   ]
  },
  {
   "cell_type": "code",
   "execution_count": 28,
   "id": "249412fc",
   "metadata": {},
   "outputs": [
    {
     "name": "stdout",
     "output_type": "stream",
     "text": [
      "Survived women:  233\n",
      "Survived men:  109\n",
      "Death women:  81\n",
      "Death men:  468\n"
     ]
    }
   ],
   "source": [
    "surv_women = train_data[(train_data['female'] == 1) & (train_data['Survived'] == 1)].female.count()\n",
    "nosurv_women = train_data[(train_data['female'] == 1) & (train_data['Survived'] == 0)].female.count()\n",
    "surv_men = train_data[(train_data['female'] == 0) & (train_data['Survived'] == 1)].female.count()\n",
    "nosurv_men = train_data[(train_data['female'] == 0) & (train_data['Survived'] == 0)].female.count()\n",
    "print(\"Survived women: \", surv_women)\n",
    "print(\"Survived men: \", surv_men)\n",
    "print(\"Death women: \", nosurv_women)\n",
    "print(\"Death men: \", nosurv_men)"
   ]
  },
  {
   "cell_type": "code",
   "execution_count": 29,
   "id": "9577f6c7",
   "metadata": {},
   "outputs": [
    {
     "name": "stdout",
     "output_type": "stream",
     "text": [
      "Survived women :  74.20382165605095  %.\n",
      "Survived men :  18.890814558058924  %.\n"
     ]
    }
   ],
   "source": [
    "# Ratio calculation\n",
    "print(\"Survived women : \", surv_women / (nosurv_women + surv_women) * 100, \" %.\")\n",
    "print(\"Survived men : \", surv_men / (nosurv_men + surv_men) * 100, \" %.\")"
   ]
  },
  {
   "cell_type": "markdown",
   "id": "ff4c3f56",
   "metadata": {},
   "source": [
    "Definetly Gender was a risk factor and of course an important feature. If you were a men you had less options to survive in the Titanic sinking."
   ]
  },
  {
   "cell_type": "code",
   "execution_count": 30,
   "id": "570fc797",
   "metadata": {},
   "outputs": [
    {
     "data": {
      "text/plain": [
       "Survived  female\n",
       "0         0         468\n",
       "          1          81\n",
       "1         0         109\n",
       "          1         233\n",
       "Name: Age, dtype: int64"
      ]
     },
     "execution_count": 30,
     "metadata": {},
     "output_type": "execute_result"
    }
   ],
   "source": [
    "train_data.groupby(['Survived', 'female']).count().iloc[:,1]"
   ]
  },
  {
   "cell_type": "code",
   "execution_count": 31,
   "id": "c3d7b363",
   "metadata": {},
   "outputs": [
    {
     "data": {
      "text/plain": [
       "female\n",
       "0    577\n",
       "1    314\n",
       "Name: Survived, dtype: int64"
      ]
     },
     "execution_count": 31,
     "metadata": {},
     "output_type": "execute_result"
    }
   ],
   "source": [
    "train_data.groupby('female').count().Survived"
   ]
  },
  {
   "cell_type": "code",
   "execution_count": 32,
   "id": "38ffc096",
   "metadata": {},
   "outputs": [
    {
     "name": "stdout",
     "output_type": "stream",
     "text": [
      "Survived C1:  62.96296296296296  %.\n",
      "Survived C2:  47.28260869565217  %.\n",
      "Survived C3:  24.236252545824847  %.\n"
     ]
    }
   ],
   "source": [
    "surv_c1 = train_data[(train_data['C1'] == 1) & (train_data['Survived'] == 1)].C1.count()\n",
    "total_c1 = train_data['C1'].sum()\n",
    "surv_c2 = train_data[(train_data['C2'] == 1) & (train_data['Survived'] == 1)].C2.count()\n",
    "total_c2 = train_data['C2'].sum()\n",
    "surv_c3 = train_data[(train_data['C3'] == 1) & (train_data['Survived'] == 1)].C3.count()\n",
    "total_c3 = train_data['C3'].sum()\n",
    "print(\"Survived C1: \", surv_c1 / total_c1 * 100, \" %.\")\n",
    "print(\"Survived C2: \", surv_c2 / total_c2 * 100, \" %.\")\n",
    "print(\"Survived C3: \", surv_c3 / total_c3 * 100, \" %.\")"
   ]
  },
  {
   "cell_type": "markdown",
   "id": "7386371b",
   "metadata": {},
   "source": [
    "Same way as gender. The lower your class was, less options to survive in the Titanic sining."
   ]
  },
  {
   "cell_type": "code",
   "execution_count": 33,
   "id": "fcf740cb",
   "metadata": {},
   "outputs": [
    {
     "data": {
      "text/plain": [
       "Survived  C1  C2  C3\n",
       "0         0   0   1     372\n",
       "              1   0      97\n",
       "          1   0   0      80\n",
       "1         0   0   1     119\n",
       "              1   0      87\n",
       "          1   0   0     136\n",
       "Name: Age, dtype: int64"
      ]
     },
     "execution_count": 33,
     "metadata": {},
     "output_type": "execute_result"
    }
   ],
   "source": [
    "train_data.groupby(['Survived', 'C1', 'C2', 'C3']).count().iloc[:,1]"
   ]
  },
  {
   "cell_type": "code",
   "execution_count": 34,
   "id": "4b7bbc0d",
   "metadata": {},
   "outputs": [
    {
     "name": "stdout",
     "output_type": "stream",
     "text": [
      "28.54977812177503\n",
      "30.415099646415896\n"
     ]
    }
   ],
   "source": [
    "print(train_data[train_data['Survived'] == 1].Age.mean())\n",
    "print(train_data[train_data['Survived'] == 0].Age.mean())"
   ]
  },
  {
   "cell_type": "markdown",
   "id": "d7933ef6",
   "metadata": {},
   "source": [
    "Age doesn't mean so relevant to decide surivival."
   ]
  },
  {
   "cell_type": "code",
   "execution_count": 35,
   "id": "a8172a0a",
   "metadata": {},
   "outputs": [],
   "source": [
    "age_labels = ['0-9', '10-19', '20-29', '30-39', '40-49', '50-59', '60-69', '70-79', '80-89', '90-99']\n",
    "train_data['age_group'] = pd.cut(train_data.Age, range(0, 101, 10), right=False, labels=age_labels)"
   ]
  },
  {
   "cell_type": "code",
   "execution_count": 36,
   "id": "726a0732",
   "metadata": {},
   "outputs": [
    {
     "data": {
      "text/html": [
       "<div>\n",
       "<style scoped>\n",
       "    .dataframe tbody tr th:only-of-type {\n",
       "        vertical-align: middle;\n",
       "    }\n",
       "\n",
       "    .dataframe tbody tr th {\n",
       "        vertical-align: top;\n",
       "    }\n",
       "\n",
       "    .dataframe thead th {\n",
       "        text-align: right;\n",
       "    }\n",
       "</style>\n",
       "<table border=\"1\" class=\"dataframe\">\n",
       "  <thead>\n",
       "    <tr style=\"text-align: right;\">\n",
       "      <th></th>\n",
       "      <th>PassengerId</th>\n",
       "      <th>Age</th>\n",
       "      <th>SibSp</th>\n",
       "      <th>Parch</th>\n",
       "      <th>Fare</th>\n",
       "      <th>Survived</th>\n",
       "      <th>C1</th>\n",
       "      <th>C2</th>\n",
       "      <th>C3</th>\n",
       "      <th>female</th>\n",
       "      <th>age_group</th>\n",
       "    </tr>\n",
       "  </thead>\n",
       "  <tbody>\n",
       "    <tr>\n",
       "      <th>0</th>\n",
       "      <td>1</td>\n",
       "      <td>22.0</td>\n",
       "      <td>1</td>\n",
       "      <td>0</td>\n",
       "      <td>7.2500</td>\n",
       "      <td>0</td>\n",
       "      <td>0</td>\n",
       "      <td>0</td>\n",
       "      <td>1</td>\n",
       "      <td>0</td>\n",
       "      <td>20-29</td>\n",
       "    </tr>\n",
       "    <tr>\n",
       "      <th>1</th>\n",
       "      <td>2</td>\n",
       "      <td>38.0</td>\n",
       "      <td>1</td>\n",
       "      <td>0</td>\n",
       "      <td>71.2833</td>\n",
       "      <td>1</td>\n",
       "      <td>1</td>\n",
       "      <td>0</td>\n",
       "      <td>0</td>\n",
       "      <td>1</td>\n",
       "      <td>30-39</td>\n",
       "    </tr>\n",
       "    <tr>\n",
       "      <th>2</th>\n",
       "      <td>3</td>\n",
       "      <td>26.0</td>\n",
       "      <td>0</td>\n",
       "      <td>0</td>\n",
       "      <td>7.9250</td>\n",
       "      <td>1</td>\n",
       "      <td>0</td>\n",
       "      <td>0</td>\n",
       "      <td>1</td>\n",
       "      <td>1</td>\n",
       "      <td>20-29</td>\n",
       "    </tr>\n",
       "    <tr>\n",
       "      <th>3</th>\n",
       "      <td>4</td>\n",
       "      <td>35.0</td>\n",
       "      <td>1</td>\n",
       "      <td>0</td>\n",
       "      <td>53.1000</td>\n",
       "      <td>1</td>\n",
       "      <td>1</td>\n",
       "      <td>0</td>\n",
       "      <td>0</td>\n",
       "      <td>1</td>\n",
       "      <td>30-39</td>\n",
       "    </tr>\n",
       "    <tr>\n",
       "      <th>4</th>\n",
       "      <td>5</td>\n",
       "      <td>35.0</td>\n",
       "      <td>0</td>\n",
       "      <td>0</td>\n",
       "      <td>8.0500</td>\n",
       "      <td>0</td>\n",
       "      <td>0</td>\n",
       "      <td>0</td>\n",
       "      <td>1</td>\n",
       "      <td>0</td>\n",
       "      <td>30-39</td>\n",
       "    </tr>\n",
       "  </tbody>\n",
       "</table>\n",
       "</div>"
      ],
      "text/plain": [
       "   PassengerId   Age  SibSp  Parch     Fare  Survived  C1  C2  C3  female  \\\n",
       "0            1  22.0      1      0   7.2500         0   0   0   1       0   \n",
       "1            2  38.0      1      0  71.2833         1   1   0   0       1   \n",
       "2            3  26.0      0      0   7.9250         1   0   0   1       1   \n",
       "3            4  35.0      1      0  53.1000         1   1   0   0       1   \n",
       "4            5  35.0      0      0   8.0500         0   0   0   1       0   \n",
       "\n",
       "  age_group  \n",
       "0     20-29  \n",
       "1     30-39  \n",
       "2     20-29  \n",
       "3     30-39  \n",
       "4     30-39  "
      ]
     },
     "execution_count": 36,
     "metadata": {},
     "output_type": "execute_result"
    }
   ],
   "source": [
    "train_data.head()"
   ]
  },
  {
   "cell_type": "code",
   "execution_count": 37,
   "id": "b94dd580",
   "metadata": {},
   "outputs": [
    {
     "data": {
      "text/plain": [
       "age_group\n",
       "0-9      0.612903\n",
       "10-19    0.401961\n",
       "20-29    0.324937\n",
       "30-39    0.437126\n",
       "40-49    0.382022\n",
       "50-59    0.416667\n",
       "60-69    0.315789\n",
       "70-79    0.000000\n",
       "80-89    1.000000\n",
       "90-99         NaN\n",
       "Name: Survived, dtype: float64"
      ]
     },
     "execution_count": 37,
     "metadata": {},
     "output_type": "execute_result"
    }
   ],
   "source": [
    "train_data.groupby(['age_group']).Survived.mean()"
   ]
  },
  {
   "cell_type": "code",
   "execution_count": 38,
   "id": "2f583e0c",
   "metadata": {},
   "outputs": [
    {
     "data": {
      "text/plain": [
       "<AxesSubplot:xlabel='age_group'>"
      ]
     },
     "execution_count": 38,
     "metadata": {},
     "output_type": "execute_result"
    },
    {
     "data": {
      "image/png": "[encoded data removed]",
      "text/plain": [
       "<Figure size 432x288 with 1 Axes>"
      ]
     },
     "metadata": {
      "needs_background": "light"
     },
     "output_type": "display_data"
    }
   ],
   "source": [
    "train_data.groupby(['age_group']).Survived.mean().plot.bar(grid=True)"
   ]
  },
  {
   "cell_type": "code",
   "execution_count": 39,
   "id": "3b0334f5",
   "metadata": {},
   "outputs": [
    {
     "data": {
      "text/plain": [
       "<AxesSubplot:xlabel='age_group,female'>"
      ]
     },
     "execution_count": 39,
     "metadata": {},
     "output_type": "execute_result"
    },
    {
     "data": {
      "image/png": "[encoded data removed]",
      "text/plain": [
       "<Figure size 432x288 with 1 Axes>"
      ]
     },
     "metadata": {
      "needs_background": "light"
     },
     "output_type": "display_data"
    }
   ],
   "source": [
    "train_data.groupby(['age_group', 'female']).Survived.mean().plot.bar(grid=True, color= ('b', 'r'))"
   ]
  },
  {
   "cell_type": "markdown",
   "id": "183f9ae2",
   "metadata": {},
   "source": [
    "So, changes made to the data that must be done for the test data to submit:\n",
    "- Extract interesting features.\n",
    "- Get dummies for Pclass and Sex\n",
    "- Rename new features created\n",
    "- Drop out male redundant feature (if no female)\n",
    "- Substitute NaN in Age by the mean value.\n",
    "- Create age_group features"
   ]
  },
  {
   "cell_type": "code",
   "execution_count": 40,
   "id": "92deb616",
   "metadata": {},
   "outputs": [
    {
     "data": {
      "text/html": [
       "<div>\n",
       "<style scoped>\n",
       "    .dataframe tbody tr th:only-of-type {\n",
       "        vertical-align: middle;\n",
       "    }\n",
       "\n",
       "    .dataframe tbody tr th {\n",
       "        vertical-align: top;\n",
       "    }\n",
       "\n",
       "    .dataframe thead th {\n",
       "        text-align: right;\n",
       "    }\n",
       "</style>\n",
       "<table border=\"1\" class=\"dataframe\">\n",
       "  <thead>\n",
       "    <tr style=\"text-align: right;\">\n",
       "      <th></th>\n",
       "      <th>PassengerId</th>\n",
       "      <th>Pclass</th>\n",
       "      <th>Name</th>\n",
       "      <th>Sex</th>\n",
       "      <th>Age</th>\n",
       "      <th>SibSp</th>\n",
       "      <th>Parch</th>\n",
       "      <th>Ticket</th>\n",
       "      <th>Fare</th>\n",
       "      <th>Cabin</th>\n",
       "      <th>Embarked</th>\n",
       "    </tr>\n",
       "  </thead>\n",
       "  <tbody>\n",
       "    <tr>\n",
       "      <th>0</th>\n",
       "      <td>892</td>\n",
       "      <td>3</td>\n",
       "      <td>Kelly, Mr. James</td>\n",
       "      <td>male</td>\n",
       "      <td>34.5</td>\n",
       "      <td>0</td>\n",
       "      <td>0</td>\n",
       "      <td>330911</td>\n",
       "      <td>7.8292</td>\n",
       "      <td>NaN</td>\n",
       "      <td>Q</td>\n",
       "    </tr>\n",
       "    <tr>\n",
       "      <th>1</th>\n",
       "      <td>893</td>\n",
       "      <td>3</td>\n",
       "      <td>Wilkes, Mrs. James (Ellen Needs)</td>\n",
       "      <td>female</td>\n",
       "      <td>47.0</td>\n",
       "      <td>1</td>\n",
       "      <td>0</td>\n",
       "      <td>363272</td>\n",
       "      <td>7.0000</td>\n",
       "      <td>NaN</td>\n",
       "      <td>S</td>\n",
       "    </tr>\n",
       "    <tr>\n",
       "      <th>2</th>\n",
       "      <td>894</td>\n",
       "      <td>2</td>\n",
       "      <td>Myles, Mr. Thomas Francis</td>\n",
       "      <td>male</td>\n",
       "      <td>62.0</td>\n",
       "      <td>0</td>\n",
       "      <td>0</td>\n",
       "      <td>240276</td>\n",
       "      <td>9.6875</td>\n",
       "      <td>NaN</td>\n",
       "      <td>Q</td>\n",
       "    </tr>\n",
       "    <tr>\n",
       "      <th>3</th>\n",
       "      <td>895</td>\n",
       "      <td>3</td>\n",
       "      <td>Wirz, Mr. Albert</td>\n",
       "      <td>male</td>\n",
       "      <td>27.0</td>\n",
       "      <td>0</td>\n",
       "      <td>0</td>\n",
       "      <td>315154</td>\n",
       "      <td>8.6625</td>\n",
       "      <td>NaN</td>\n",
       "      <td>S</td>\n",
       "    </tr>\n",
       "    <tr>\n",
       "      <th>4</th>\n",
       "      <td>896</td>\n",
       "      <td>3</td>\n",
       "      <td>Hirvonen, Mrs. Alexander (Helga E Lindqvist)</td>\n",
       "      <td>female</td>\n",
       "      <td>22.0</td>\n",
       "      <td>1</td>\n",
       "      <td>1</td>\n",
       "      <td>3101298</td>\n",
       "      <td>12.2875</td>\n",
       "      <td>NaN</td>\n",
       "      <td>S</td>\n",
       "    </tr>\n",
       "  </tbody>\n",
       "</table>\n",
       "</div>"
      ],
      "text/plain": [
       "   PassengerId  Pclass                                          Name     Sex  \\\n",
       "0          892       3                              Kelly, Mr. James    male   \n",
       "1          893       3              Wilkes, Mrs. James (Ellen Needs)  female   \n",
       "2          894       2                     Myles, Mr. Thomas Francis    male   \n",
       "3          895       3                              Wirz, Mr. Albert    male   \n",
       "4          896       3  Hirvonen, Mrs. Alexander (Helga E Lindqvist)  female   \n",
       "\n",
       "    Age  SibSp  Parch   Ticket     Fare Cabin Embarked  \n",
       "0  34.5      0      0   330911   7.8292   NaN        Q  \n",
       "1  47.0      1      0   363272   7.0000   NaN        S  \n",
       "2  62.0      0      0   240276   9.6875   NaN        Q  \n",
       "3  27.0      0      0   315154   8.6625   NaN        S  \n",
       "4  22.0      1      1  3101298  12.2875   NaN        S  "
      ]
     },
     "execution_count": 40,
     "metadata": {},
     "output_type": "execute_result"
    }
   ],
   "source": [
    "test_data = pd.read_csv(\"./data/test.csv\")\n",
    "test_data.head()"
   ]
  },
  {
   "cell_type": "code",
   "execution_count": 41,
   "id": "d8d9a7ad",
   "metadata": {},
   "outputs": [
    {
     "data": {
      "text/html": [
       "<div>\n",
       "<style scoped>\n",
       "    .dataframe tbody tr th:only-of-type {\n",
       "        vertical-align: middle;\n",
       "    }\n",
       "\n",
       "    .dataframe tbody tr th {\n",
       "        vertical-align: top;\n",
       "    }\n",
       "\n",
       "    .dataframe thead th {\n",
       "        text-align: right;\n",
       "    }\n",
       "</style>\n",
       "<table border=\"1\" class=\"dataframe\">\n",
       "  <thead>\n",
       "    <tr style=\"text-align: right;\">\n",
       "      <th></th>\n",
       "      <th>PassengerId</th>\n",
       "      <th>Age</th>\n",
       "      <th>SibSp</th>\n",
       "      <th>Parch</th>\n",
       "      <th>Fare</th>\n",
       "      <th>C1</th>\n",
       "      <th>C2</th>\n",
       "      <th>C3</th>\n",
       "      <th>female</th>\n",
       "    </tr>\n",
       "  </thead>\n",
       "  <tbody>\n",
       "    <tr>\n",
       "      <th>0</th>\n",
       "      <td>892</td>\n",
       "      <td>34.5</td>\n",
       "      <td>0</td>\n",
       "      <td>0</td>\n",
       "      <td>7.8292</td>\n",
       "      <td>0</td>\n",
       "      <td>0</td>\n",
       "      <td>1</td>\n",
       "      <td>0</td>\n",
       "    </tr>\n",
       "    <tr>\n",
       "      <th>1</th>\n",
       "      <td>893</td>\n",
       "      <td>47.0</td>\n",
       "      <td>1</td>\n",
       "      <td>0</td>\n",
       "      <td>7.0000</td>\n",
       "      <td>0</td>\n",
       "      <td>0</td>\n",
       "      <td>1</td>\n",
       "      <td>1</td>\n",
       "    </tr>\n",
       "    <tr>\n",
       "      <th>2</th>\n",
       "      <td>894</td>\n",
       "      <td>62.0</td>\n",
       "      <td>0</td>\n",
       "      <td>0</td>\n",
       "      <td>9.6875</td>\n",
       "      <td>0</td>\n",
       "      <td>1</td>\n",
       "      <td>0</td>\n",
       "      <td>0</td>\n",
       "    </tr>\n",
       "    <tr>\n",
       "      <th>3</th>\n",
       "      <td>895</td>\n",
       "      <td>27.0</td>\n",
       "      <td>0</td>\n",
       "      <td>0</td>\n",
       "      <td>8.6625</td>\n",
       "      <td>0</td>\n",
       "      <td>0</td>\n",
       "      <td>1</td>\n",
       "      <td>0</td>\n",
       "    </tr>\n",
       "    <tr>\n",
       "      <th>4</th>\n",
       "      <td>896</td>\n",
       "      <td>22.0</td>\n",
       "      <td>1</td>\n",
       "      <td>1</td>\n",
       "      <td>12.2875</td>\n",
       "      <td>0</td>\n",
       "      <td>0</td>\n",
       "      <td>1</td>\n",
       "      <td>1</td>\n",
       "    </tr>\n",
       "  </tbody>\n",
       "</table>\n",
       "</div>"
      ],
      "text/plain": [
       "   PassengerId   Age  SibSp  Parch     Fare  C1  C2  C3  female\n",
       "0          892  34.5      0      0   7.8292   0   0   1       0\n",
       "1          893  47.0      1      0   7.0000   0   0   1       1\n",
       "2          894  62.0      0      0   9.6875   0   1   0       0\n",
       "3          895  27.0      0      0   8.6625   0   0   1       0\n",
       "4          896  22.0      1      1  12.2875   0   0   1       1"
      ]
     },
     "execution_count": 41,
     "metadata": {},
     "output_type": "execute_result"
    }
   ],
   "source": [
    "test_features = ['PassengerId', 'Pclass', 'Sex', 'Age', 'SibSp', 'Parch', 'Fare']\n",
    "test_data = test_data[test_features]\n",
    "test_data = pd.get_dummies(test_data, columns=['Pclass', 'Sex'])    \n",
    "test_data = test_data.rename(columns={'Sex_female' : 'female', \n",
    "                       'Pclass_1' : 'C1',\n",
    "                       'Pclass_2' : 'C2',\n",
    "                       'Pclass_3' : 'C3'})  \n",
    "test_data = test_data.drop('Sex_male', axis=1)\n",
    "test_data['Age'] = test_data['Age'].fillna(train_data.Age.mean())\n",
    "test_data.head()"
   ]
  },
  {
   "cell_type": "code",
   "execution_count": 42,
   "id": "f50f1f95",
   "metadata": {
    "scrolled": true
   },
   "outputs": [
    {
     "name": "stdout",
     "output_type": "stream",
     "text": [
      "<class 'pandas.core.frame.DataFrame'>\n",
      "RangeIndex: 418 entries, 0 to 417\n",
      "Data columns (total 9 columns):\n",
      " #   Column       Non-Null Count  Dtype  \n",
      "---  ------       --------------  -----  \n",
      " 0   PassengerId  418 non-null    int64  \n",
      " 1   Age          418 non-null    float64\n",
      " 2   SibSp        418 non-null    int64  \n",
      " 3   Parch        418 non-null    int64  \n",
      " 4   Fare         417 non-null    float64\n",
      " 5   C1           418 non-null    uint8  \n",
      " 6   C2           418 non-null    uint8  \n",
      " 7   C3           418 non-null    uint8  \n",
      " 8   female       418 non-null    uint8  \n",
      "dtypes: float64(2), int64(3), uint8(4)\n",
      "memory usage: 18.1 KB\n"
     ]
    }
   ],
   "source": [
    "test_data.info()"
   ]
  },
  {
   "cell_type": "code",
   "execution_count": 43,
   "id": "08746b49",
   "metadata": {
    "scrolled": true
   },
   "outputs": [
    {
     "data": {
      "text/html": [
       "<div>\n",
       "<style scoped>\n",
       "    .dataframe tbody tr th:only-of-type {\n",
       "        vertical-align: middle;\n",
       "    }\n",
       "\n",
       "    .dataframe tbody tr th {\n",
       "        vertical-align: top;\n",
       "    }\n",
       "\n",
       "    .dataframe thead th {\n",
       "        text-align: right;\n",
       "    }\n",
       "</style>\n",
       "<table border=\"1\" class=\"dataframe\">\n",
       "  <thead>\n",
       "    <tr style=\"text-align: right;\">\n",
       "      <th></th>\n",
       "      <th>PassengerId</th>\n",
       "      <th>Age</th>\n",
       "      <th>SibSp</th>\n",
       "      <th>Parch</th>\n",
       "      <th>Fare</th>\n",
       "      <th>C1</th>\n",
       "      <th>C2</th>\n",
       "      <th>C3</th>\n",
       "      <th>female</th>\n",
       "    </tr>\n",
       "  </thead>\n",
       "  <tbody>\n",
       "    <tr>\n",
       "      <th>count</th>\n",
       "      <td>418.000000</td>\n",
       "      <td>418.000000</td>\n",
       "      <td>418.000000</td>\n",
       "      <td>418.000000</td>\n",
       "      <td>418.000000</td>\n",
       "      <td>418.000000</td>\n",
       "      <td>418.000000</td>\n",
       "      <td>418.000000</td>\n",
       "      <td>418.000000</td>\n",
       "    </tr>\n",
       "    <tr>\n",
       "      <th>mean</th>\n",
       "      <td>1100.500000</td>\n",
       "      <td>30.154603</td>\n",
       "      <td>0.447368</td>\n",
       "      <td>0.392344</td>\n",
       "      <td>35.619000</td>\n",
       "      <td>0.255981</td>\n",
       "      <td>0.222488</td>\n",
       "      <td>0.521531</td>\n",
       "      <td>0.363636</td>\n",
       "    </tr>\n",
       "    <tr>\n",
       "      <th>std</th>\n",
       "      <td>120.810458</td>\n",
       "      <td>12.636666</td>\n",
       "      <td>0.896760</td>\n",
       "      <td>0.981429</td>\n",
       "      <td>55.840751</td>\n",
       "      <td>0.436934</td>\n",
       "      <td>0.416416</td>\n",
       "      <td>0.500135</td>\n",
       "      <td>0.481622</td>\n",
       "    </tr>\n",
       "    <tr>\n",
       "      <th>min</th>\n",
       "      <td>892.000000</td>\n",
       "      <td>0.170000</td>\n",
       "      <td>0.000000</td>\n",
       "      <td>0.000000</td>\n",
       "      <td>0.000000</td>\n",
       "      <td>0.000000</td>\n",
       "      <td>0.000000</td>\n",
       "      <td>0.000000</td>\n",
       "      <td>0.000000</td>\n",
       "    </tr>\n",
       "    <tr>\n",
       "      <th>25%</th>\n",
       "      <td>996.250000</td>\n",
       "      <td>23.000000</td>\n",
       "      <td>0.000000</td>\n",
       "      <td>0.000000</td>\n",
       "      <td>7.895800</td>\n",
       "      <td>0.000000</td>\n",
       "      <td>0.000000</td>\n",
       "      <td>0.000000</td>\n",
       "      <td>0.000000</td>\n",
       "    </tr>\n",
       "    <tr>\n",
       "      <th>50%</th>\n",
       "      <td>1100.500000</td>\n",
       "      <td>29.699118</td>\n",
       "      <td>0.000000</td>\n",
       "      <td>0.000000</td>\n",
       "      <td>14.454200</td>\n",
       "      <td>0.000000</td>\n",
       "      <td>0.000000</td>\n",
       "      <td>1.000000</td>\n",
       "      <td>0.000000</td>\n",
       "    </tr>\n",
       "    <tr>\n",
       "      <th>75%</th>\n",
       "      <td>1204.750000</td>\n",
       "      <td>35.750000</td>\n",
       "      <td>1.000000</td>\n",
       "      <td>0.000000</td>\n",
       "      <td>31.500000</td>\n",
       "      <td>1.000000</td>\n",
       "      <td>0.000000</td>\n",
       "      <td>1.000000</td>\n",
       "      <td>1.000000</td>\n",
       "    </tr>\n",
       "    <tr>\n",
       "      <th>max</th>\n",
       "      <td>1309.000000</td>\n",
       "      <td>76.000000</td>\n",
       "      <td>8.000000</td>\n",
       "      <td>9.000000</td>\n",
       "      <td>512.329200</td>\n",
       "      <td>1.000000</td>\n",
       "      <td>1.000000</td>\n",
       "      <td>1.000000</td>\n",
       "      <td>1.000000</td>\n",
       "    </tr>\n",
       "  </tbody>\n",
       "</table>\n",
       "</div>"
      ],
      "text/plain": [
       "       PassengerId         Age       SibSp       Parch        Fare  \\\n",
       "count   418.000000  418.000000  418.000000  418.000000  418.000000   \n",
       "mean   1100.500000   30.154603    0.447368    0.392344   35.619000   \n",
       "std     120.810458   12.636666    0.896760    0.981429   55.840751   \n",
       "min     892.000000    0.170000    0.000000    0.000000    0.000000   \n",
       "25%     996.250000   23.000000    0.000000    0.000000    7.895800   \n",
       "50%    1100.500000   29.699118    0.000000    0.000000   14.454200   \n",
       "75%    1204.750000   35.750000    1.000000    0.000000   31.500000   \n",
       "max    1309.000000   76.000000    8.000000    9.000000  512.329200   \n",
       "\n",
       "               C1          C2          C3      female  \n",
       "count  418.000000  418.000000  418.000000  418.000000  \n",
       "mean     0.255981    0.222488    0.521531    0.363636  \n",
       "std      0.436934    0.416416    0.500135    0.481622  \n",
       "min      0.000000    0.000000    0.000000    0.000000  \n",
       "25%      0.000000    0.000000    0.000000    0.000000  \n",
       "50%      0.000000    0.000000    1.000000    0.000000  \n",
       "75%      1.000000    0.000000    1.000000    1.000000  \n",
       "max      1.000000    1.000000    1.000000    1.000000  "
      ]
     },
     "execution_count": 43,
     "metadata": {},
     "output_type": "execute_result"
    }
   ],
   "source": [
    "test_data['Fare'] = test_data['Fare'].fillna(train_data.Fare.mean())\n",
    "test_data.describe()"
   ]
  },
  {
   "cell_type": "code",
   "execution_count": 44,
   "id": "dd6ba22c",
   "metadata": {
    "scrolled": false
   },
   "outputs": [
    {
     "data": {
      "text/html": [
       "<div>\n",
       "<style scoped>\n",
       "    .dataframe tbody tr th:only-of-type {\n",
       "        vertical-align: middle;\n",
       "    }\n",
       "\n",
       "    .dataframe tbody tr th {\n",
       "        vertical-align: top;\n",
       "    }\n",
       "\n",
       "    .dataframe thead th {\n",
       "        text-align: right;\n",
       "    }\n",
       "</style>\n",
       "<table border=\"1\" class=\"dataframe\">\n",
       "  <thead>\n",
       "    <tr style=\"text-align: right;\">\n",
       "      <th></th>\n",
       "      <th>PassengerId</th>\n",
       "      <th>Age</th>\n",
       "      <th>SibSp</th>\n",
       "      <th>Parch</th>\n",
       "      <th>Fare</th>\n",
       "      <th>Survived</th>\n",
       "      <th>C1</th>\n",
       "      <th>C2</th>\n",
       "      <th>C3</th>\n",
       "      <th>female</th>\n",
       "    </tr>\n",
       "  </thead>\n",
       "  <tbody>\n",
       "    <tr>\n",
       "      <th>count</th>\n",
       "      <td>891.000000</td>\n",
       "      <td>891.000000</td>\n",
       "      <td>891.000000</td>\n",
       "      <td>891.000000</td>\n",
       "      <td>891.000000</td>\n",
       "      <td>891.000000</td>\n",
       "      <td>891.000000</td>\n",
       "      <td>891.000000</td>\n",
       "      <td>891.000000</td>\n",
       "      <td>891.000000</td>\n",
       "    </tr>\n",
       "    <tr>\n",
       "      <th>mean</th>\n",
       "      <td>446.000000</td>\n",
       "      <td>29.699118</td>\n",
       "      <td>0.523008</td>\n",
       "      <td>0.381594</td>\n",
       "      <td>32.204208</td>\n",
       "      <td>0.383838</td>\n",
       "      <td>0.242424</td>\n",
       "      <td>0.206510</td>\n",
       "      <td>0.551066</td>\n",
       "      <td>0.352413</td>\n",
       "    </tr>\n",
       "    <tr>\n",
       "      <th>std</th>\n",
       "      <td>257.353842</td>\n",
       "      <td>13.002015</td>\n",
       "      <td>1.102743</td>\n",
       "      <td>0.806057</td>\n",
       "      <td>49.693429</td>\n",
       "      <td>0.486592</td>\n",
       "      <td>0.428790</td>\n",
       "      <td>0.405028</td>\n",
       "      <td>0.497665</td>\n",
       "      <td>0.477990</td>\n",
       "    </tr>\n",
       "    <tr>\n",
       "      <th>min</th>\n",
       "      <td>1.000000</td>\n",
       "      <td>0.420000</td>\n",
       "      <td>0.000000</td>\n",
       "      <td>0.000000</td>\n",
       "      <td>0.000000</td>\n",
       "      <td>0.000000</td>\n",
       "      <td>0.000000</td>\n",
       "      <td>0.000000</td>\n",
       "      <td>0.000000</td>\n",
       "      <td>0.000000</td>\n",
       "    </tr>\n",
       "    <tr>\n",
       "      <th>25%</th>\n",
       "      <td>223.500000</td>\n",
       "      <td>22.000000</td>\n",
       "      <td>0.000000</td>\n",
       "      <td>0.000000</td>\n",
       "      <td>7.910400</td>\n",
       "      <td>0.000000</td>\n",
       "      <td>0.000000</td>\n",
       "      <td>0.000000</td>\n",
       "      <td>0.000000</td>\n",
       "      <td>0.000000</td>\n",
       "    </tr>\n",
       "    <tr>\n",
       "      <th>50%</th>\n",
       "      <td>446.000000</td>\n",
       "      <td>29.699118</td>\n",
       "      <td>0.000000</td>\n",
       "      <td>0.000000</td>\n",
       "      <td>14.454200</td>\n",
       "      <td>0.000000</td>\n",
       "      <td>0.000000</td>\n",
       "      <td>0.000000</td>\n",
       "      <td>1.000000</td>\n",
       "      <td>0.000000</td>\n",
       "    </tr>\n",
       "    <tr>\n",
       "      <th>75%</th>\n",
       "      <td>668.500000</td>\n",
       "      <td>35.000000</td>\n",
       "      <td>1.000000</td>\n",
       "      <td>0.000000</td>\n",
       "      <td>31.000000</td>\n",
       "      <td>1.000000</td>\n",
       "      <td>0.000000</td>\n",
       "      <td>0.000000</td>\n",
       "      <td>1.000000</td>\n",
       "      <td>1.000000</td>\n",
       "    </tr>\n",
       "    <tr>\n",
       "      <th>max</th>\n",
       "      <td>891.000000</td>\n",
       "      <td>80.000000</td>\n",
       "      <td>8.000000</td>\n",
       "      <td>6.000000</td>\n",
       "      <td>512.329200</td>\n",
       "      <td>1.000000</td>\n",
       "      <td>1.000000</td>\n",
       "      <td>1.000000</td>\n",
       "      <td>1.000000</td>\n",
       "      <td>1.000000</td>\n",
       "    </tr>\n",
       "  </tbody>\n",
       "</table>\n",
       "</div>"
      ],
      "text/plain": [
       "       PassengerId         Age       SibSp       Parch        Fare  \\\n",
       "count   891.000000  891.000000  891.000000  891.000000  891.000000   \n",
       "mean    446.000000   29.699118    0.523008    0.381594   32.204208   \n",
       "std     257.353842   13.002015    1.102743    0.806057   49.693429   \n",
       "min       1.000000    0.420000    0.000000    0.000000    0.000000   \n",
       "25%     223.500000   22.000000    0.000000    0.000000    7.910400   \n",
       "50%     446.000000   29.699118    0.000000    0.000000   14.454200   \n",
       "75%     668.500000   35.000000    1.000000    0.000000   31.000000   \n",
       "max     891.000000   80.000000    8.000000    6.000000  512.329200   \n",
       "\n",
       "         Survived          C1          C2          C3      female  \n",
       "count  891.000000  891.000000  891.000000  891.000000  891.000000  \n",
       "mean     0.383838    0.242424    0.206510    0.551066    0.352413  \n",
       "std      0.486592    0.428790    0.405028    0.497665    0.477990  \n",
       "min      0.000000    0.000000    0.000000    0.000000    0.000000  \n",
       "25%      0.000000    0.000000    0.000000    0.000000    0.000000  \n",
       "50%      0.000000    0.000000    0.000000    1.000000    0.000000  \n",
       "75%      1.000000    0.000000    0.000000    1.000000    1.000000  \n",
       "max      1.000000    1.000000    1.000000    1.000000    1.000000  "
      ]
     },
     "execution_count": 44,
     "metadata": {},
     "output_type": "execute_result"
    }
   ],
   "source": [
    "train_data.describe()"
   ]
  },
  {
   "cell_type": "code",
   "execution_count": 58,
   "id": "0934341b",
   "metadata": {},
   "outputs": [],
   "source": [
    "X_train = train_data.drop(['Survived', 'age_group'], axis=1)\n",
    "X_test = test_data\n",
    "y_train = train_data['Survived']"
   ]
  },
  {
   "cell_type": "code",
   "execution_count": 59,
   "id": "16c0bf69",
   "metadata": {
    "scrolled": true
   },
   "outputs": [
    {
     "data": {
      "text/html": [
       "<div>\n",
       "<style scoped>\n",
       "    .dataframe tbody tr th:only-of-type {\n",
       "        vertical-align: middle;\n",
       "    }\n",
       "\n",
       "    .dataframe tbody tr th {\n",
       "        vertical-align: top;\n",
       "    }\n",
       "\n",
       "    .dataframe thead th {\n",
       "        text-align: right;\n",
       "    }\n",
       "</style>\n",
       "<table border=\"1\" class=\"dataframe\">\n",
       "  <thead>\n",
       "    <tr style=\"text-align: right;\">\n",
       "      <th></th>\n",
       "      <th>PassengerId</th>\n",
       "      <th>Age</th>\n",
       "      <th>SibSp</th>\n",
       "      <th>Parch</th>\n",
       "      <th>Fare</th>\n",
       "      <th>C1</th>\n",
       "      <th>C2</th>\n",
       "      <th>C3</th>\n",
       "      <th>female</th>\n",
       "      <th>relatives</th>\n",
       "    </tr>\n",
       "  </thead>\n",
       "  <tbody>\n",
       "    <tr>\n",
       "      <th>PassengerId</th>\n",
       "      <td>1.000000</td>\n",
       "      <td>0.033207</td>\n",
       "      <td>-0.057527</td>\n",
       "      <td>-0.001652</td>\n",
       "      <td>0.012658</td>\n",
       "      <td>0.034303</td>\n",
       "      <td>-0.000086</td>\n",
       "      <td>-0.029486</td>\n",
       "      <td>-0.042939</td>\n",
       "      <td>-0.040143</td>\n",
       "    </tr>\n",
       "    <tr>\n",
       "      <th>Age</th>\n",
       "      <td>0.033207</td>\n",
       "      <td>1.000000</td>\n",
       "      <td>-0.232625</td>\n",
       "      <td>-0.179191</td>\n",
       "      <td>0.091566</td>\n",
       "      <td>0.319916</td>\n",
       "      <td>0.006589</td>\n",
       "      <td>-0.281004</td>\n",
       "      <td>-0.084153</td>\n",
       "      <td>-0.248512</td>\n",
       "    </tr>\n",
       "    <tr>\n",
       "      <th>SibSp</th>\n",
       "      <td>-0.057527</td>\n",
       "      <td>-0.232625</td>\n",
       "      <td>1.000000</td>\n",
       "      <td>0.414838</td>\n",
       "      <td>0.159651</td>\n",
       "      <td>-0.054582</td>\n",
       "      <td>-0.055932</td>\n",
       "      <td>0.092548</td>\n",
       "      <td>0.114631</td>\n",
       "      <td>0.890712</td>\n",
       "    </tr>\n",
       "    <tr>\n",
       "      <th>Parch</th>\n",
       "      <td>-0.001652</td>\n",
       "      <td>-0.179191</td>\n",
       "      <td>0.414838</td>\n",
       "      <td>1.000000</td>\n",
       "      <td>0.216225</td>\n",
       "      <td>-0.017633</td>\n",
       "      <td>-0.000734</td>\n",
       "      <td>0.015790</td>\n",
       "      <td>0.245489</td>\n",
       "      <td>0.783111</td>\n",
       "    </tr>\n",
       "    <tr>\n",
       "      <th>Fare</th>\n",
       "      <td>0.012658</td>\n",
       "      <td>0.091566</td>\n",
       "      <td>0.159651</td>\n",
       "      <td>0.216225</td>\n",
       "      <td>1.000000</td>\n",
       "      <td>0.591711</td>\n",
       "      <td>-0.118557</td>\n",
       "      <td>-0.413333</td>\n",
       "      <td>0.182333</td>\n",
       "      <td>0.217138</td>\n",
       "    </tr>\n",
       "    <tr>\n",
       "      <th>C1</th>\n",
       "      <td>0.034303</td>\n",
       "      <td>0.319916</td>\n",
       "      <td>-0.054582</td>\n",
       "      <td>-0.017633</td>\n",
       "      <td>0.591711</td>\n",
       "      <td>1.000000</td>\n",
       "      <td>-0.288585</td>\n",
       "      <td>-0.626738</td>\n",
       "      <td>0.098013</td>\n",
       "      <td>-0.046114</td>\n",
       "    </tr>\n",
       "    <tr>\n",
       "      <th>C2</th>\n",
       "      <td>-0.000086</td>\n",
       "      <td>0.006589</td>\n",
       "      <td>-0.055932</td>\n",
       "      <td>-0.000734</td>\n",
       "      <td>-0.118557</td>\n",
       "      <td>-0.288585</td>\n",
       "      <td>1.000000</td>\n",
       "      <td>-0.565210</td>\n",
       "      <td>0.064746</td>\n",
       "      <td>-0.038594</td>\n",
       "    </tr>\n",
       "    <tr>\n",
       "      <th>C3</th>\n",
       "      <td>-0.029486</td>\n",
       "      <td>-0.281004</td>\n",
       "      <td>0.092548</td>\n",
       "      <td>0.015790</td>\n",
       "      <td>-0.413333</td>\n",
       "      <td>-0.626738</td>\n",
       "      <td>-0.565210</td>\n",
       "      <td>1.000000</td>\n",
       "      <td>-0.137143</td>\n",
       "      <td>0.071142</td>\n",
       "    </tr>\n",
       "    <tr>\n",
       "      <th>female</th>\n",
       "      <td>-0.042939</td>\n",
       "      <td>-0.084153</td>\n",
       "      <td>0.114631</td>\n",
       "      <td>0.245489</td>\n",
       "      <td>0.182333</td>\n",
       "      <td>0.098013</td>\n",
       "      <td>0.064746</td>\n",
       "      <td>-0.137143</td>\n",
       "      <td>1.000000</td>\n",
       "      <td>0.200988</td>\n",
       "    </tr>\n",
       "    <tr>\n",
       "      <th>relatives</th>\n",
       "      <td>-0.040143</td>\n",
       "      <td>-0.248512</td>\n",
       "      <td>0.890712</td>\n",
       "      <td>0.783111</td>\n",
       "      <td>0.217138</td>\n",
       "      <td>-0.046114</td>\n",
       "      <td>-0.038594</td>\n",
       "      <td>0.071142</td>\n",
       "      <td>0.200988</td>\n",
       "      <td>1.000000</td>\n",
       "    </tr>\n",
       "  </tbody>\n",
       "</table>\n",
       "</div>"
      ],
      "text/plain": [
       "             PassengerId       Age     SibSp     Parch      Fare        C1  \\\n",
       "PassengerId     1.000000  0.033207 -0.057527 -0.001652  0.012658  0.034303   \n",
       "Age             0.033207  1.000000 -0.232625 -0.179191  0.091566  0.319916   \n",
       "SibSp          -0.057527 -0.232625  1.000000  0.414838  0.159651 -0.054582   \n",
       "Parch          -0.001652 -0.179191  0.414838  1.000000  0.216225 -0.017633   \n",
       "Fare            0.012658  0.091566  0.159651  0.216225  1.000000  0.591711   \n",
       "C1              0.034303  0.319916 -0.054582 -0.017633  0.591711  1.000000   \n",
       "C2             -0.000086  0.006589 -0.055932 -0.000734 -0.118557 -0.288585   \n",
       "C3             -0.029486 -0.281004  0.092548  0.015790 -0.413333 -0.626738   \n",
       "female         -0.042939 -0.084153  0.114631  0.245489  0.182333  0.098013   \n",
       "relatives      -0.040143 -0.248512  0.890712  0.783111  0.217138 -0.046114   \n",
       "\n",
       "                   C2        C3    female  relatives  \n",
       "PassengerId -0.000086 -0.029486 -0.042939  -0.040143  \n",
       "Age          0.006589 -0.281004 -0.084153  -0.248512  \n",
       "SibSp       -0.055932  0.092548  0.114631   0.890712  \n",
       "Parch       -0.000734  0.015790  0.245489   0.783111  \n",
       "Fare        -0.118557 -0.413333  0.182333   0.217138  \n",
       "C1          -0.288585 -0.626738  0.098013  -0.046114  \n",
       "C2           1.000000 -0.565210  0.064746  -0.038594  \n",
       "C3          -0.565210  1.000000 -0.137143   0.071142  \n",
       "female       0.064746 -0.137143  1.000000   0.200988  \n",
       "relatives   -0.038594  0.071142  0.200988   1.000000  "
      ]
     },
     "execution_count": 59,
     "metadata": {},
     "output_type": "execute_result"
    }
   ],
   "source": [
    "X_train.corr()"
   ]
  },
  {
   "cell_type": "code",
   "execution_count": 60,
   "id": "4908efc5",
   "metadata": {
    "scrolled": false
   },
   "outputs": [
    {
     "data": {
      "text/html": [
       "<div>\n",
       "<style scoped>\n",
       "    .dataframe tbody tr th:only-of-type {\n",
       "        vertical-align: middle;\n",
       "    }\n",
       "\n",
       "    .dataframe tbody tr th {\n",
       "        vertical-align: top;\n",
       "    }\n",
       "\n",
       "    .dataframe thead th {\n",
       "        text-align: right;\n",
       "    }\n",
       "</style>\n",
       "<table border=\"1\" class=\"dataframe\">\n",
       "  <thead>\n",
       "    <tr style=\"text-align: right;\">\n",
       "      <th></th>\n",
       "      <th>PassengerId</th>\n",
       "      <th>Age</th>\n",
       "      <th>SibSp</th>\n",
       "      <th>Parch</th>\n",
       "      <th>Fare</th>\n",
       "      <th>C1</th>\n",
       "      <th>C2</th>\n",
       "      <th>C3</th>\n",
       "      <th>female</th>\n",
       "    </tr>\n",
       "  </thead>\n",
       "  <tbody>\n",
       "    <tr>\n",
       "      <th>PassengerId</th>\n",
       "      <td>1.000000</td>\n",
       "      <td>-0.030999</td>\n",
       "      <td>0.003818</td>\n",
       "      <td>0.043080</td>\n",
       "      <td>0.008278</td>\n",
       "      <td>-0.011062</td>\n",
       "      <td>0.077295</td>\n",
       "      <td>-0.054692</td>\n",
       "      <td>-0.023245</td>\n",
       "    </tr>\n",
       "    <tr>\n",
       "      <th>Age</th>\n",
       "      <td>-0.030999</td>\n",
       "      <td>1.000000</td>\n",
       "      <td>-0.078129</td>\n",
       "      <td>-0.044872</td>\n",
       "      <td>0.329844</td>\n",
       "      <td>0.456368</td>\n",
       "      <td>-0.056265</td>\n",
       "      <td>-0.351851</td>\n",
       "      <td>0.001406</td>\n",
       "    </tr>\n",
       "    <tr>\n",
       "      <th>SibSp</th>\n",
       "      <td>0.003818</td>\n",
       "      <td>-0.078129</td>\n",
       "      <td>1.000000</td>\n",
       "      <td>0.306895</td>\n",
       "      <td>0.171560</td>\n",
       "      <td>0.019166</td>\n",
       "      <td>-0.042418</td>\n",
       "      <td>0.018573</td>\n",
       "      <td>0.099943</td>\n",
       "    </tr>\n",
       "    <tr>\n",
       "      <th>Parch</th>\n",
       "      <td>0.043080</td>\n",
       "      <td>-0.044872</td>\n",
       "      <td>0.306895</td>\n",
       "      <td>1.000000</td>\n",
       "      <td>0.230059</td>\n",
       "      <td>-0.005485</td>\n",
       "      <td>-0.026335</td>\n",
       "      <td>0.026719</td>\n",
       "      <td>0.159120</td>\n",
       "    </tr>\n",
       "    <tr>\n",
       "      <th>Fare</th>\n",
       "      <td>0.008278</td>\n",
       "      <td>0.329844</td>\n",
       "      <td>0.171560</td>\n",
       "      <td>0.230059</td>\n",
       "      <td>1.000000</td>\n",
       "      <td>0.616925</td>\n",
       "      <td>-0.128683</td>\n",
       "      <td>-0.431823</td>\n",
       "      <td>0.191493</td>\n",
       "    </tr>\n",
       "    <tr>\n",
       "      <th>C1</th>\n",
       "      <td>-0.011062</td>\n",
       "      <td>0.456368</td>\n",
       "      <td>0.019166</td>\n",
       "      <td>-0.005485</td>\n",
       "      <td>0.616925</td>\n",
       "      <td>1.000000</td>\n",
       "      <td>-0.313770</td>\n",
       "      <td>-0.612386</td>\n",
       "      <td>0.126389</td>\n",
       "    </tr>\n",
       "    <tr>\n",
       "      <th>C2</th>\n",
       "      <td>0.077295</td>\n",
       "      <td>-0.056265</td>\n",
       "      <td>-0.042418</td>\n",
       "      <td>-0.026335</td>\n",
       "      <td>-0.128683</td>\n",
       "      <td>-0.313770</td>\n",
       "      <td>1.000000</td>\n",
       "      <td>-0.558487</td>\n",
       "      <td>-0.045655</td>\n",
       "    </tr>\n",
       "    <tr>\n",
       "      <th>C3</th>\n",
       "      <td>-0.054692</td>\n",
       "      <td>-0.351851</td>\n",
       "      <td>0.018573</td>\n",
       "      <td>0.026719</td>\n",
       "      <td>-0.431823</td>\n",
       "      <td>-0.612386</td>\n",
       "      <td>-0.558487</td>\n",
       "      <td>1.000000</td>\n",
       "      <td>-0.072405</td>\n",
       "    </tr>\n",
       "    <tr>\n",
       "      <th>female</th>\n",
       "      <td>-0.023245</td>\n",
       "      <td>0.001406</td>\n",
       "      <td>0.099943</td>\n",
       "      <td>0.159120</td>\n",
       "      <td>0.191493</td>\n",
       "      <td>0.126389</td>\n",
       "      <td>-0.045655</td>\n",
       "      <td>-0.072405</td>\n",
       "      <td>1.000000</td>\n",
       "    </tr>\n",
       "  </tbody>\n",
       "</table>\n",
       "</div>"
      ],
      "text/plain": [
       "             PassengerId       Age     SibSp     Parch      Fare        C1  \\\n",
       "PassengerId     1.000000 -0.030999  0.003818  0.043080  0.008278 -0.011062   \n",
       "Age            -0.030999  1.000000 -0.078129 -0.044872  0.329844  0.456368   \n",
       "SibSp           0.003818 -0.078129  1.000000  0.306895  0.171560  0.019166   \n",
       "Parch           0.043080 -0.044872  0.306895  1.000000  0.230059 -0.005485   \n",
       "Fare            0.008278  0.329844  0.171560  0.230059  1.000000  0.616925   \n",
       "C1             -0.011062  0.456368  0.019166 -0.005485  0.616925  1.000000   \n",
       "C2              0.077295 -0.056265 -0.042418 -0.026335 -0.128683 -0.313770   \n",
       "C3             -0.054692 -0.351851  0.018573  0.026719 -0.431823 -0.612386   \n",
       "female         -0.023245  0.001406  0.099943  0.159120  0.191493  0.126389   \n",
       "\n",
       "                   C2        C3    female  \n",
       "PassengerId  0.077295 -0.054692 -0.023245  \n",
       "Age         -0.056265 -0.351851  0.001406  \n",
       "SibSp       -0.042418  0.018573  0.099943  \n",
       "Parch       -0.026335  0.026719  0.159120  \n",
       "Fare        -0.128683 -0.431823  0.191493  \n",
       "C1          -0.313770 -0.612386  0.126389  \n",
       "C2           1.000000 -0.558487 -0.045655  \n",
       "C3          -0.558487  1.000000 -0.072405  \n",
       "female      -0.045655 -0.072405  1.000000  "
      ]
     },
     "execution_count": 60,
     "metadata": {},
     "output_type": "execute_result"
    }
   ],
   "source": [
    "X_test.corr()"
   ]
  },
  {
   "cell_type": "code",
   "execution_count": 61,
   "id": "f4b5ebad",
   "metadata": {},
   "outputs": [],
   "source": [
    "from sklearn.decomposition import PCA"
   ]
  },
  {
   "cell_type": "code",
   "execution_count": 62,
   "id": "87c0fb59",
   "metadata": {},
   "outputs": [],
   "source": [
    "pca = PCA(n_components= 2)"
   ]
  },
  {
   "cell_type": "code",
   "execution_count": 63,
   "id": "33d922f3",
   "metadata": {},
   "outputs": [
    {
     "name": "stderr",
     "output_type": "stream",
     "text": [
      "/home/luciano/anaconda3/lib/python3.8/site-packages/sklearn/base.py:488: FutureWarning: The feature names should match those that were passed during fit. Starting version 1.2, an error will be raised.\n",
      "Feature names seen at fit time, yet now missing:\n",
      "- relatives\n",
      "\n",
      "  warnings.warn(message, FutureWarning)\n"
     ]
    },
    {
     "ename": "ValueError",
     "evalue": "X has 9 features, but PCA is expecting 10 features as input.",
     "output_type": "error",
     "traceback": [
      "\u001b[0;31m---------------------------------------------------------------------------\u001b[0m",
      "\u001b[0;31mValueError\u001b[0m                                Traceback (most recent call last)",
      "\u001b[0;32m/tmp/ipykernel_3095/1120819970.py\u001b[0m in \u001b[0;36m<module>\u001b[0;34m\u001b[0m\n\u001b[1;32m      1\u001b[0m \u001b[0mX_train_pca\u001b[0m \u001b[0;34m=\u001b[0m \u001b[0mpca\u001b[0m\u001b[0;34m.\u001b[0m\u001b[0mfit_transform\u001b[0m\u001b[0;34m(\u001b[0m\u001b[0mX_train\u001b[0m\u001b[0;34m)\u001b[0m\u001b[0;34m\u001b[0m\u001b[0;34m\u001b[0m\u001b[0m\n\u001b[0;32m----> 2\u001b[0;31m \u001b[0mX_test_pca\u001b[0m \u001b[0;34m=\u001b[0m \u001b[0mpca\u001b[0m\u001b[0;34m.\u001b[0m\u001b[0mtransform\u001b[0m\u001b[0;34m(\u001b[0m\u001b[0mX_test\u001b[0m\u001b[0;34m)\u001b[0m\u001b[0;34m\u001b[0m\u001b[0;34m\u001b[0m\u001b[0m\n\u001b[0m",
      "\u001b[0;32m~/anaconda3/lib/python3.8/site-packages/sklearn/decomposition/_base.py\u001b[0m in \u001b[0;36mtransform\u001b[0;34m(self, X)\u001b[0m\n\u001b[1;32m    115\u001b[0m         \u001b[0mcheck_is_fitted\u001b[0m\u001b[0;34m(\u001b[0m\u001b[0mself\u001b[0m\u001b[0;34m)\u001b[0m\u001b[0;34m\u001b[0m\u001b[0;34m\u001b[0m\u001b[0m\n\u001b[1;32m    116\u001b[0m \u001b[0;34m\u001b[0m\u001b[0m\n\u001b[0;32m--> 117\u001b[0;31m         \u001b[0mX\u001b[0m \u001b[0;34m=\u001b[0m \u001b[0mself\u001b[0m\u001b[0;34m.\u001b[0m\u001b[0m_validate_data\u001b[0m\u001b[0;34m(\u001b[0m\u001b[0mX\u001b[0m\u001b[0;34m,\u001b[0m \u001b[0mdtype\u001b[0m\u001b[0;34m=\u001b[0m\u001b[0;34m[\u001b[0m\u001b[0mnp\u001b[0m\u001b[0;34m.\u001b[0m\u001b[0mfloat64\u001b[0m\u001b[0;34m,\u001b[0m \u001b[0mnp\u001b[0m\u001b[0;34m.\u001b[0m\u001b[0mfloat32\u001b[0m\u001b[0;34m]\u001b[0m\u001b[0;34m,\u001b[0m \u001b[0mreset\u001b[0m\u001b[0;34m=\u001b[0m\u001b[0;32mFalse\u001b[0m\u001b[0;34m)\u001b[0m\u001b[0;34m\u001b[0m\u001b[0;34m\u001b[0m\u001b[0m\n\u001b[0m\u001b[1;32m    118\u001b[0m         \u001b[0;32mif\u001b[0m \u001b[0mself\u001b[0m\u001b[0;34m.\u001b[0m\u001b[0mmean_\u001b[0m \u001b[0;32mis\u001b[0m \u001b[0;32mnot\u001b[0m \u001b[0;32mNone\u001b[0m\u001b[0;34m:\u001b[0m\u001b[0;34m\u001b[0m\u001b[0;34m\u001b[0m\u001b[0m\n\u001b[1;32m    119\u001b[0m             \u001b[0mX\u001b[0m \u001b[0;34m=\u001b[0m \u001b[0mX\u001b[0m \u001b[0;34m-\u001b[0m \u001b[0mself\u001b[0m\u001b[0;34m.\u001b[0m\u001b[0mmean_\u001b[0m\u001b[0;34m\u001b[0m\u001b[0;34m\u001b[0m\u001b[0m\n",
      "\u001b[0;32m~/anaconda3/lib/python3.8/site-packages/sklearn/base.py\u001b[0m in \u001b[0;36m_validate_data\u001b[0;34m(self, X, y, reset, validate_separately, **check_params)\u001b[0m\n\u001b[1;32m    578\u001b[0m \u001b[0;34m\u001b[0m\u001b[0m\n\u001b[1;32m    579\u001b[0m         \u001b[0;32mif\u001b[0m \u001b[0;32mnot\u001b[0m \u001b[0mno_val_X\u001b[0m \u001b[0;32mand\u001b[0m \u001b[0mcheck_params\u001b[0m\u001b[0;34m.\u001b[0m\u001b[0mget\u001b[0m\u001b[0;34m(\u001b[0m\u001b[0;34m\"ensure_2d\"\u001b[0m\u001b[0;34m,\u001b[0m \u001b[0;32mTrue\u001b[0m\u001b[0;34m)\u001b[0m\u001b[0;34m:\u001b[0m\u001b[0;34m\u001b[0m\u001b[0;34m\u001b[0m\u001b[0m\n\u001b[0;32m--> 580\u001b[0;31m             \u001b[0mself\u001b[0m\u001b[0;34m.\u001b[0m\u001b[0m_check_n_features\u001b[0m\u001b[0;34m(\u001b[0m\u001b[0mX\u001b[0m\u001b[0;34m,\u001b[0m \u001b[0mreset\u001b[0m\u001b[0;34m=\u001b[0m\u001b[0mreset\u001b[0m\u001b[0;34m)\u001b[0m\u001b[0;34m\u001b[0m\u001b[0;34m\u001b[0m\u001b[0m\n\u001b[0m\u001b[1;32m    581\u001b[0m \u001b[0;34m\u001b[0m\u001b[0m\n\u001b[1;32m    582\u001b[0m         \u001b[0;32mreturn\u001b[0m \u001b[0mout\u001b[0m\u001b[0;34m\u001b[0m\u001b[0;34m\u001b[0m\u001b[0m\n",
      "\u001b[0;32m~/anaconda3/lib/python3.8/site-packages/sklearn/base.py\u001b[0m in \u001b[0;36m_check_n_features\u001b[0;34m(self, X, reset)\u001b[0m\n\u001b[1;32m    393\u001b[0m \u001b[0;34m\u001b[0m\u001b[0m\n\u001b[1;32m    394\u001b[0m         \u001b[0;32mif\u001b[0m \u001b[0mn_features\u001b[0m \u001b[0;34m!=\u001b[0m \u001b[0mself\u001b[0m\u001b[0;34m.\u001b[0m\u001b[0mn_features_in_\u001b[0m\u001b[0;34m:\u001b[0m\u001b[0;34m\u001b[0m\u001b[0;34m\u001b[0m\u001b[0m\n\u001b[0;32m--> 395\u001b[0;31m             raise ValueError(\n\u001b[0m\u001b[1;32m    396\u001b[0m                 \u001b[0;34mf\"X has {n_features} features, but {self.__class__.__name__} \"\u001b[0m\u001b[0;34m\u001b[0m\u001b[0;34m\u001b[0m\u001b[0m\n\u001b[1;32m    397\u001b[0m                 \u001b[0;34mf\"is expecting {self.n_features_in_} features as input.\"\u001b[0m\u001b[0;34m\u001b[0m\u001b[0;34m\u001b[0m\u001b[0m\n",
      "\u001b[0;31mValueError\u001b[0m: X has 9 features, but PCA is expecting 10 features as input."
     ]
    }
   ],
   "source": [
    "X_train_pca = pca.fit_transform(X_train)\n",
    "X_test_pca = pca.transform(X_test)"
   ]
  },
  {
   "cell_type": "code",
   "execution_count": 64,
   "id": "edfefe1f",
   "metadata": {
    "scrolled": true
   },
   "outputs": [
    {
     "data": {
      "text/plain": [
       "array([[ 445.07441277,  -23.99553077],\n",
       "       [ 443.8847687 ,   40.43002448],\n",
       "       [ 443.06555271,  -23.23254319],\n",
       "       ...,\n",
       "       [-442.97493054,   -9.87351867],\n",
       "       [-443.98653899,   -3.44722089],\n",
       "       [-444.94000234,  -25.54707222]])"
      ]
     },
     "execution_count": 64,
     "metadata": {},
     "output_type": "execute_result"
    }
   ],
   "source": [
    "X_train_pca"
   ]
  },
  {
   "cell_type": "code",
   "execution_count": 53,
   "id": "bf1f0272",
   "metadata": {
    "scrolled": false
   },
   "outputs": [
    {
     "data": {
      "text/plain": [
       "array([[-4.45944194e+02, -2.54016160e+01],\n",
       "       [-4.46962810e+02, -2.59082048e+01],\n",
       "       [-4.47995279e+02, -2.28428275e+01],\n",
       "       [-4.48933666e+02, -2.47681348e+01],\n",
       "       [-4.49934118e+02, -2.12661257e+01],\n",
       "       [-4.50913190e+02, -2.45434018e+01],\n",
       "       [-4.51936000e+02, -2.57303427e+01],\n",
       "       [-4.52983434e+02, -4.46378411e+00],\n",
       "       [-4.53914764e+02, -2.64421881e+01],\n",
       "       [-4.54962384e+02, -9.44816502e+00],\n",
       "       [-4.55936231e+02, -2.54836146e+01],\n",
       "       [-4.57009788e+02, -6.96256335e+00],\n",
       "       [-4.58113660e+02,  4.86981356e+01],\n",
       "       [-4.59038106e+02, -6.53561165e+00],\n",
       "       [-4.60100490e+02,  2.82226528e+01],\n",
       "       [-4.60976704e+02, -5.81604369e+00],\n",
       "       [-4.61956504e+02, -2.09078141e+01],\n",
       "       [-4.62919843e+02, -2.63946709e+01],\n",
       "       [-4.63931396e+02, -2.55388181e+01],\n",
       "       [-4.64960175e+02, -2.57844264e+01],\n",
       "       [-4.66109506e+02,  2.66356097e+01],\n",
       "       [-4.66889309e+02, -3.07610553e+01],\n",
       "       [-4.67996640e+02, -1.72479177e+00],\n",
       "       [-4.69057498e+02,  2.77369552e+01],\n",
       "       [-4.70613240e+02,  2.29359165e+02],\n",
       "       [-4.70986883e+02, -1.83979669e+01],\n",
       "       [-4.72060613e+02,  2.83563111e+01],\n",
       "       [-4.72922322e+02, -2.63821379e+01],\n",
       "       [-4.74012719e+02, -2.63595138e+00],\n",
       "       [-4.74970665e+02, -1.17472734e+01],\n",
       "       [-4.76016131e+02, -6.91190331e+00],\n",
       "       [-4.76986063e+02, -2.07776918e+00],\n",
       "       [-4.77973562e+02, -1.27692131e+01],\n",
       "       [-4.78975302e+02, -9.98224848e+00],\n",
       "       [-4.80063144e+02,  2.43108407e+01],\n",
       "       [-4.80915559e+02, -2.65008718e+01],\n",
       "       [-4.81936421e+02, -2.53948515e+01],\n",
       "       [-4.82923322e+02, -2.50075855e+01],\n",
       "       [-4.83932261e+02, -2.40724512e+01],\n",
       "       [-4.85059558e+02,  2.30237046e+01],\n",
       "       [-4.85965776e+02, -1.98008975e+01],\n",
       "       [-4.86983590e+02, -6.90702332e+00],\n",
       "       [-4.87954998e+02, -2.53230713e+01],\n",
       "       [-4.88949528e+02, -2.04538596e+01],\n",
       "       [-4.90075081e+02,  1.94764110e+01],\n",
       "       [-4.90928227e+02, -2.56649487e+01],\n",
       "       [-4.92017339e+02, -3.37985929e+00],\n",
       "       [-4.92935687e+02, -2.57248970e+01],\n",
       "       [-4.94160875e+02,  4.35748985e+01],\n",
       "       [-4.94966905e+02, -1.74132130e+01],\n",
       "       [-4.96058679e+02,  2.63652898e+01],\n",
       "       [-4.96949683e+02, -1.85204205e+01],\n",
       "       [-4.97957550e+02, -1.07259153e+01],\n",
       "       [-4.99580520e+02,  2.29401239e+02],\n",
       "       [-4.99955601e+02, -1.79134529e+01],\n",
       "       [-5.00955783e+02, -4.86448497e+00],\n",
       "       [-5.01944944e+02, -2.54668507e+01],\n",
       "       [-5.02927472e+02, -2.59708325e+01],\n",
       "       [-5.03956602e+02, -1.74028336e+01],\n",
       "       [-5.05593127e+02,  2.28947981e+02],\n",
       "       [-5.05914609e+02, -2.59374206e+01],\n",
       "       [-5.06954162e+02, -1.99511345e+01],\n",
       "       [-5.07915913e+02, -2.60627623e+01],\n",
       "       [-5.08922502e+02, -2.59863064e+01],\n",
       "       [-5.10553944e+02,  2.28359253e+02],\n",
       "       [-5.10969241e+02, -1.25212881e+01],\n",
       "       [-5.11916143e+02, -2.59421850e+01],\n",
       "       [-5.13052872e+02,  9.31240387e+00],\n",
       "       [-5.13990704e+02, -4.95670438e+00],\n",
       "       [-5.15634823e+02,  2.30178058e+02],\n",
       "       [-5.15925902e+02, -2.59282519e+01],\n",
       "       [-5.16921294e+02, -2.58635472e+01],\n",
       "       [-5.17934758e+02, -2.56306352e+01],\n",
       "       [-5.18984395e+02, -5.84993795e+00],\n",
       "       [-5.20462130e+02,  1.78027316e+02],\n",
       "       [-5.21457994e+02,  1.77959059e+02],\n",
       "       [-5.21936314e+02, -2.54998863e+01],\n",
       "       [-5.23023302e+02, -7.19394615e+00],\n",
       "       [-5.23949443e+02, -2.05459841e+01],\n",
       "       [-5.24925859e+02, -2.59514904e+01],\n",
       "       [-5.25914410e+02, -1.89160016e+01],\n",
       "       [-5.27541939e+02,  1.89104656e+02],\n",
       "       [-5.28014508e+02, -7.06918185e+00],\n",
       "       [-5.28935889e+02, -2.56721042e+01],\n",
       "       [-5.29943087e+02, -2.28600303e+01],\n",
       "       [-5.30952295e+02, -1.91177461e+01],\n",
       "       [-5.31931208e+02, -2.57637051e+01],\n",
       "       [-5.32916479e+02, -2.58256706e+01],\n",
       "       [-5.33935416e+02, -2.58290082e+01],\n",
       "       [-5.34927387e+02, -1.12869701e+01],\n",
       "       [-5.35937817e+02, -1.98797591e+01],\n",
       "       [-5.36935545e+02, -2.58135163e+01],\n",
       "       [-5.38043123e+02,  1.83452071e+01],\n",
       "       [-5.38936234e+02, -2.55437811e+01],\n",
       "       [-5.39974030e+02, -7.71382213e+00],\n",
       "       [-5.40927665e+02, -2.59232038e+01],\n",
       "       [-5.42193850e+02,  4.64209513e+01],\n",
       "       [-5.42934720e+02, -2.56969393e+01],\n",
       "       [-5.43919298e+02, -2.59986634e+01],\n",
       "       [-5.44941766e+02, -2.54748732e+01],\n",
       "       [-5.46078786e+02,  2.21671206e+01],\n",
       "       [-5.46977062e+02, -7.68331548e+00],\n",
       "       [-5.47935430e+02, -2.58669097e+01],\n",
       "       [-5.48929259e+02, -2.59390836e+01],\n",
       "       [-5.49913965e+02, -2.54471633e+01],\n",
       "       [-5.50970089e+02, -1.11485124e+01],\n",
       "       [-5.51920940e+02, -2.60288915e+01],\n",
       "       [-5.52935407e+02, -2.58798199e+01],\n",
       "       [-5.53937847e+02, -2.49202545e+01],\n",
       "       [-5.54929930e+02, -2.09200710e+01],\n",
       "       [-5.55973017e+02, -1.83023002e+01],\n",
       "       [-5.56935382e+02, -2.58592060e+01],\n",
       "       [-5.58006820e+02, -1.80016749e+00],\n",
       "       [-5.58915251e+02, -2.66464385e+01],\n",
       "       [-5.60534968e+02,  1.88918925e+02],\n",
       "       [-5.60932450e+02, -1.94943422e+01],\n",
       "       [-5.61932030e+02, -2.72150776e+01],\n",
       "       [-5.62909430e+02, -1.76839622e+01],\n",
       "       [-5.64117538e+02,  4.17291312e+01],\n",
       "       [-5.64980266e+02, -7.67690153e+00],\n",
       "       [-5.65925837e+02, -1.83639264e+01],\n",
       "       [-5.66935095e+02, -2.59124442e+01],\n",
       "       [-5.68071073e+02,  2.42132182e+01],\n",
       "       [-5.68931200e+02, -2.64643943e+01],\n",
       "       [-5.69935327e+02, -2.59237148e+01],\n",
       "       [-5.70935062e+02, -1.78988194e+01],\n",
       "       [-5.71922467e+02, -2.60799543e+01],\n",
       "       [-5.72974117e+02, -1.04283366e+01],\n",
       "       [-5.73969420e+02, -2.03682587e+01],\n",
       "       [-5.74926467e+02, -2.57824556e+01],\n",
       "       [-5.75939936e+02, -2.55804857e+01],\n",
       "       [-5.77027366e+02, -4.59434200e+00],\n",
       "       [-5.77980198e+02, -8.21846116e+00],\n",
       "       [-5.78931704e+02, -2.72554481e+01],\n",
       "       [-5.79958052e+02, -2.54636986e+01],\n",
       "       [-5.80925942e+02, -2.59936761e+01],\n",
       "       [-5.81928549e+02, -2.65613053e+01],\n",
       "       [-5.82942430e+02, -2.08006009e+01],\n",
       "       [-5.83924661e+02, -2.58295101e+01],\n",
       "       [-5.85051787e+02,  1.34610418e+01],\n",
       "       [-5.86000210e+02,  1.26932941e+01],\n",
       "       [-5.87306151e+02,  1.17875140e+02],\n",
       "       [-5.88634662e+02,  2.29385127e+02],\n",
       "       [-5.88978796e+02, -7.76971694e+00],\n",
       "       [-5.90003825e+02, -6.85845324e+00],\n",
       "       [-5.90962720e+02, -1.56878568e+01],\n",
       "       [-5.92047402e+02,  1.81250900e+01],\n",
       "       [-5.92923014e+02, -2.58800704e+01],\n",
       "       [-5.93983089e+02, -7.18330254e+00],\n",
       "       [-5.94981885e+02, -7.72706025e+00],\n",
       "       [-5.96115520e+02,  4.92330485e+01],\n",
       "       [-5.96935571e+02, -2.58476835e+01],\n",
       "       [-5.98049195e+02, -7.63213953e-01],\n",
       "       [-5.98956976e+02, -2.13970848e+01],\n",
       "       [-5.99966115e+02, -2.77824294e+00],\n",
       "       [-6.00925075e+02, -2.63494057e+01],\n",
       "       [-6.02477754e+02,  1.87937609e+02],\n",
       "       [-6.02924075e+02, -2.60742973e+01],\n",
       "       [-6.04003760e+02, -6.89460193e+00],\n",
       "       [-6.04944149e+02, -2.00771499e+01],\n",
       "       [-6.05935036e+02, -2.60316096e+01],\n",
       "       [-6.06915715e+02, -1.90995786e+01],\n",
       "       [-6.07943504e+02, -2.03635825e+01],\n",
       "       [-6.08933239e+02, -2.67741400e+01],\n",
       "       [-6.09967567e+02, -2.04867815e+01],\n",
       "       [-6.10964838e+02, -1.18456263e+01],\n",
       "       [-6.12074659e+02,  1.71751847e+01],\n",
       "       [-6.12982557e+02,  2.95392297e-01],\n",
       "       [-6.13985890e+02, -6.06281951e+00],\n",
       "       [-6.14925150e+02, -2.50229569e+01],\n",
       "       [-6.15934604e+02, -2.62424158e+01],\n",
       "       [-6.16929227e+02, -2.66388925e+01],\n",
       "       [-6.17939197e+02, -2.00676710e+01],\n",
       "       [-6.18933775e+02, -2.65708444e+01],\n",
       "       [-6.20012220e+02, -2.13963460e+00],\n",
       "       [-6.20989687e+02,  4.81922508e+00],\n",
       "       [-6.21992397e+02,  2.68833887e+00],\n",
       "       [-6.23097031e+02,  2.22478089e+01],\n",
       "       [-6.24025036e+02,  5.35191428e+00],\n",
       "       [-6.25184432e+02,  5.02099842e+01],\n",
       "       [-6.25948966e+02, -2.08093531e+01],\n",
       "       [-6.27138787e+02,  4.95127424e+01],\n",
       "       [-6.28030348e+02,  1.89753257e+01],\n",
       "       [-6.28935051e+02, -2.60760557e+01],\n",
       "       [-6.30539397e+02,  2.13553356e+02],\n",
       "       [-6.30973406e+02, -1.75676723e+01],\n",
       "       [-6.31954018e+02, -1.30526571e+01],\n",
       "       [-6.32913914e+02, -2.61041485e+01],\n",
       "       [-6.34089964e+02,  3.57253191e+01],\n",
       "       [-6.34965766e+02, -2.05769017e+01],\n",
       "       [-6.35988435e+02, -7.73413492e+00],\n",
       "       [-6.36981491e+02, -7.84412919e+00],\n",
       "       [-6.37921254e+02, -1.98100885e+01],\n",
       "       [-6.38999465e+02, -2.07000430e+01],\n",
       "       [-6.39961375e+02, -1.90818877e+00],\n",
       "       [-6.40940819e+02, -2.59184782e+01],\n",
       "       [-6.42217176e+02,  1.00004230e+02],\n",
       "       [-6.42915265e+02, -2.63845952e+01],\n",
       "       [-6.43930741e+02, -2.35338972e+01],\n",
       "       [-6.44935817e+02, -2.57532484e+01],\n",
       "       [-6.45954580e+02, -1.83710363e+01],\n",
       "       [-6.46902386e+02, -2.02189337e+01],\n",
       "       [-6.48522284e+02,  1.94024544e+02],\n",
       "       [-6.48944500e+02, -8.42725574e+00],\n",
       "       [-6.49934081e+02, -2.34982515e+01],\n",
       "       [-6.50980769e+02, -8.13848326e+00],\n",
       "       [-6.51943791e+02, -2.59981517e+01],\n",
       "       [-6.52932383e+02, -2.35315666e+01],\n",
       "       [-6.53991262e+02, -6.08170124e+00],\n",
       "       [-6.54927385e+02, -2.61175940e+01],\n",
       "       [-6.55976334e+02, -1.13173516e+01],\n",
       "       [-6.56933141e+02, -2.68480966e+01],\n",
       "       [-6.58080615e+02,  3.92534644e+01],\n",
       "       [-6.59032037e+02, -7.12697552e+00],\n",
       "       [-6.59947875e+02, -2.58960395e+01],\n",
       "       [-6.61044012e+02,  8.90237908e+00],\n",
       "       [-6.61935145e+02, -2.60303577e+01],\n",
       "       [-6.63379875e+02,  1.31609640e+02],\n",
       "       [-6.64486468e+02,  1.78046047e+02],\n",
       "       [-6.64935644e+02, -2.58691193e+01],\n",
       "       [-6.65950633e+02, -2.00493722e+01],\n",
       "       [-6.66920984e+02, -2.60967110e+01],\n",
       "       [-6.67928865e+02, -2.36196825e+01],\n",
       "       [-6.68920329e+02, -2.63559820e+01],\n",
       "       [-6.70024173e+02, -5.88653355e+00],\n",
       "       [-6.70953807e+02, -1.86827212e+01],\n",
       "       [-6.71923683e+02, -2.63125902e+01],\n",
       "       [-6.72934765e+02, -2.61879129e+01],\n",
       "       [-6.73971703e+02, -1.85687724e+01],\n",
       "       [-6.74958842e+02, -2.07824596e+01],\n",
       "       [-6.76053885e+02,  3.06333940e+01],\n",
       "       [-6.76967970e+02, -7.61828737e+00],\n",
       "       [-6.77916738e+02, -2.76752199e+01],\n",
       "       [-6.78935145e+02, -2.60760054e+01],\n",
       "       [-6.80111745e+02,  3.75528948e+01],\n",
       "       [-6.80918737e+02, -2.63541570e+01],\n",
       "       [-6.82163918e+02,  4.21522024e+01],\n",
       "       [-6.82917129e+02, -2.69882906e+01],\n",
       "       [-6.83928153e+02, -2.12571759e+01],\n",
       "       [-6.85216074e+02,  7.29006865e+01],\n",
       "       [-6.86028165e+02, -5.60180909e+00],\n",
       "       [-6.87017041e+02, -3.58082399e+00],\n",
       "       [-6.88282403e+02,  1.00882684e+02],\n",
       "       [-6.88935119e+02, -2.60935289e+01],\n",
       "       [-6.89974393e+02, -1.05288136e+01],\n",
       "       [-6.91065726e+02,  1.81619437e+01],\n",
       "       [-6.91955427e+02, -1.31854976e+01],\n",
       "       [-6.93018149e+02, -1.17565402e+00],\n",
       "       [-6.93979663e+02, -8.00998583e+00],\n",
       "       [-6.94951447e+02, -1.95394493e+01],\n",
       "       [-6.95936796e+02, -6.97679485e+00],\n",
       "       [-6.96918841e+02, -2.63246957e+01],\n",
       "       [-6.98257836e+02,  1.02671500e+02],\n",
       "       [-6.98929126e+02, -2.48280966e+01],\n",
       "       [-6.99943881e+02, -2.44384064e+01],\n",
       "       [-7.00934206e+02, -2.64618899e+01],\n",
       "       [-7.01934709e+02, -2.62645452e+01],\n",
       "       [-7.02932605e+02, -2.60106819e+01],\n",
       "       [-7.03929995e+02, -2.12902589e+01],\n",
       "       [-7.04920107e+02, -2.64697281e+01],\n",
       "       [-7.05970413e+02, -1.64509920e+01],\n",
       "       [-7.06920299e+02, -2.63957213e+01],\n",
       "       [-7.07972212e+02, -1.10415868e+01],\n",
       "       [-7.08897272e+02, -2.25759869e+01],\n",
       "       [-7.09947906e+02, -2.12886491e+01],\n",
       "       [-7.10935037e+02, -2.61420371e+01],\n",
       "       [-7.11915089e+02, -3.40282595e+01],\n",
       "       [-7.12934149e+02, -2.64928745e+01],\n",
       "       [-7.13935335e+02, -2.59938868e+01],\n",
       "       [-7.14915578e+02, -2.57106497e+01],\n",
       "       [-7.16133668e+02,  4.15923496e+01],\n",
       "       [-7.16934639e+02, -2.63032759e+01],\n",
       "       [-7.18255978e+02,  1.02596043e+02],\n",
       "       [-7.18953992e+02, -1.85560015e+01],\n",
       "       [-7.19933291e+02, -2.68358298e+01],\n",
       "       [-7.20964378e+02, -8.30982203e+00],\n",
       "       [-7.21938797e+02, -2.36074521e+01],\n",
       "       [-7.22998133e+02, -7.80535924e+00],\n",
       "       [-7.23968584e+02, -1.30617997e+01],\n",
       "       [-7.24928678e+02, -2.37686121e+01],\n",
       "       [-7.25925552e+02, -2.55838854e+01],\n",
       "       [-7.26900890e+02, -2.10394919e+01],\n",
       "       [-7.27934508e+02, -2.63299256e+01],\n",
       "       [-7.28918432e+02, -1.93616977e+01],\n",
       "       [-7.29919255e+02, -1.45783819e+01],\n",
       "       [-7.30943915e+02, -2.66781343e+01],\n",
       "       [-7.31933298e+02, -2.68418235e+01],\n",
       "       [-7.33114136e+02,  4.80118883e+01],\n",
       "       [-7.33933236e+02, -2.68677800e+01],\n",
       "       [-7.34935317e+02, -2.60498627e+01],\n",
       "       [-7.36015576e+02,  5.49526654e+00],\n",
       "       [-7.36932940e+02, -2.71451778e+01],\n",
       "       [-7.37933217e+02, -2.68781082e+01],\n",
       "       [-7.39161908e+02,  4.83331329e+01],\n",
       "       [-7.39949589e+02, -2.44521969e+01],\n",
       "       [-7.40928667e+02, -2.63140812e+01],\n",
       "       [-7.41971847e+02,  6.73061103e+00],\n",
       "       [-7.42969410e+02, -1.24392624e+01],\n",
       "       [-7.44031034e+02,  1.13801423e+01],\n",
       "       [-7.44933595e+02, -2.62892872e+01],\n",
       "       [-7.45938442e+02, -2.62943333e+01],\n",
       "       [-7.46953090e+02, -1.90844236e+01],\n",
       "       [-7.47990608e+02, -1.27914099e+01],\n",
       "       [-7.48927208e+02, -2.56194564e+01],\n",
       "       [-7.49934405e+02, -2.63867307e+01],\n",
       "       [-7.51039794e+02, -6.70288152e+00],\n",
       "       [-7.52300149e+02,  1.17381139e+02],\n",
       "       [-7.52889908e+02, -2.55314832e+01],\n",
       "       [-7.54194781e+02,  5.99829760e+01],\n",
       "       [-7.54976058e+02, -1.96489174e+01],\n",
       "       [-7.55917070e+02, -2.57909447e+01],\n",
       "       [-7.56920151e+02, -2.71282242e+01],\n",
       "       [-7.57934002e+02, -2.65840758e+01],\n",
       "       [-7.58946659e+02, -2.62232930e+01],\n",
       "       [-7.60301959e+02,  1.02080093e+02],\n",
       "       [-7.60912923e+02, -2.67565307e+01],\n",
       "       [-7.62332810e+02,  1.13011350e+02],\n",
       "       [-7.62923447e+02, -2.39434369e+01],\n",
       "       [-7.63930137e+02, -2.63894841e+01],\n",
       "       [-7.64981346e+02, -2.87253722e+00],\n",
       "       [-7.65928243e+02, -2.64993882e+01],\n",
       "       [-7.66925167e+02, -2.70731393e+01],\n",
       "       [-7.67941564e+02, -2.12782800e+01],\n",
       "       [-7.68987829e+02, -7.55076087e+00],\n",
       "       [-7.70467283e+02,  1.77321639e+02],\n",
       "       [-7.70921325e+02, -2.73137398e+01],\n",
       "       [-7.71983440e+02,  4.35619092e+00],\n",
       "       [-7.73143457e+02,  4.54020230e+01],\n",
       "       [-7.73979368e+02, -8.21830259e+00],\n",
       "       [-7.74933110e+02, -2.14241993e+01],\n",
       "       [-7.76038824e+02,  3.01360822e+00],\n",
       "       [-7.77005899e+02, -4.26915713e+00],\n",
       "       [-7.77933019e+02, -2.69855886e+01],\n",
       "       [-7.78936300e+02, -1.87393919e+01],\n",
       "       [-7.79930168e+02, -2.63892121e+01],\n",
       "       [-7.80981323e+02, -8.20825096e+00],\n",
       "       [-7.81951604e+02, -2.11610147e+01],\n",
       "       [-7.82948662e+02, -2.67495130e+01],\n",
       "       [-7.83986802e+02, -2.85193798e+00],\n",
       "       [-7.84932997e+02, -2.69994645e+01],\n",
       "       [-7.85921655e+02, -2.40283930e+01],\n",
       "       [-7.86937752e+02, -2.65959256e+01],\n",
       "       [-7.88091012e+02,  3.53256663e+01],\n",
       "       [-7.90263827e+02,  4.78643330e+02],\n",
       "       [-7.89951193e+02, -1.97372269e+01],\n",
       "       [-7.90910886e+02, -2.69428306e+01],\n",
       "       [-7.91941452e+02, -2.13402492e+01],\n",
       "       [-7.92946861e+02, -2.68061229e+01],\n",
       "       [-7.93939344e+02, -2.08967344e+01],\n",
       "       [-7.94970102e+02, -1.32213278e+01],\n",
       "       [-7.96101337e+02,  2.94864089e+01],\n",
       "       [-7.96933393e+02, -2.38778127e+01],\n",
       "       [-7.98081644e+02,  3.89175466e+01],\n",
       "       [-7.99112000e+02,  3.12212141e+01],\n",
       "       [-7.99916761e+02, -1.44400627e+01],\n",
       "       [-8.01014914e+02, -7.74851219e+00],\n",
       "       [-8.02094222e+02,  1.79576957e+01],\n",
       "       [-8.02934564e+02, -2.63961795e+01],\n",
       "       [-8.03934231e+02, -2.65279142e+01],\n",
       "       [-8.04954223e+02, -1.87203827e+01],\n",
       "       [-8.06063640e+02,  3.48908278e+01],\n",
       "       [-8.06998662e+02,  2.57405369e+00],\n",
       "       [-8.07970041e+02, -1.32548944e+01],\n",
       "       [-8.08931980e+02, -2.56976724e+01],\n",
       "       [-8.10047234e+02,  2.10252180e+01],\n",
       "       [-8.11090825e+02,  3.52680320e+01],\n",
       "       [-8.11950989e+02, -1.98392033e+01],\n",
       "       [-8.13002276e+02,  5.17954343e+00],\n",
       "       [-8.14091197e+02,  2.54830819e+01],\n",
       "       [-8.14948577e+02, -2.04649437e+01],\n",
       "       [-8.15928861e+02, -2.30259894e+01],\n",
       "       [-8.17258392e+02,  1.00186375e+02],\n",
       "       [-8.17947100e+02, -3.38084527e+01],\n",
       "       [-8.18971641e+02, -2.09497227e+01],\n",
       "       [-8.20163133e+02,  4.81513088e+01],\n",
       "       [-8.21606805e+02,  2.28362175e+02],\n",
       "       [-8.21922926e+02, -2.58502823e+01],\n",
       "       [-8.22929075e+02, -2.30475882e+01],\n",
       "       [-8.24084197e+02,  1.63111548e+01],\n",
       "       [-8.24951588e+02, -3.56375582e+00],\n",
       "       [-8.25934128e+02, -2.65847193e+01],\n",
       "       [-8.26928222e+02, -2.65527313e+01],\n",
       "       [-8.27951187e+02, -1.98406029e+01],\n",
       "       [-8.28936981e+02, -1.85138122e+01],\n",
       "       [-8.29947186e+02, -2.14687385e+01],\n",
       "       [-8.31069666e+02,  3.05011168e+01],\n",
       "       [-8.31924565e+02, -2.67209414e+01],\n",
       "       [-8.32993471e+02, -2.06534746e+01],\n",
       "       [-8.33919440e+02, -2.68278033e+01],\n",
       "       [-8.34927279e+02, -1.38797411e+01],\n",
       "       [-8.36140753e+02,  5.89460294e+01],\n",
       "       [-8.37050386e+02,  5.58443432e+00],\n",
       "       [-8.37937692e+02, -1.45402887e+01],\n",
       "       [-8.38970249e+02, -2.34237410e+01],\n",
       "       [-8.39968406e+02, -1.23549126e+01],\n",
       "       [-8.41046879e+02,  2.53228219e+01],\n",
       "       [-8.41923185e+02, -2.72715696e+01],\n",
       "       [-8.43146167e+02,  4.52811814e+01],\n",
       "       [-8.43921141e+02, -2.68030639e+01],\n",
       "       [-8.44936188e+02, -2.66172098e+01],\n",
       "       [-8.46333715e+02,  1.30441504e+02],\n",
       "       [-8.46981482e+02, -1.31748399e+01],\n",
       "       [-8.48052300e+02,  2.48072055e+01],\n",
       "       [-8.49012712e+02,  1.23760443e+01],\n",
       "       [-8.50007020e+02, -6.33032140e+00],\n",
       "       [-8.50933261e+02, -2.07838199e+01],\n",
       "       [-8.51929521e+02, -2.40674389e+01],\n",
       "       [-8.53485662e+02,  1.77556287e+02],\n",
       "       [-8.53933844e+02, -2.66844531e+01],\n",
       "       [-8.54904001e+02, -2.13107111e+01],\n",
       "       [-8.55933908e+02, -2.66604279e+01],\n",
       "       [-8.57155016e+02,  5.57563314e+01],\n",
       "       [-8.57931101e+02, -2.66840459e+01],\n",
       "       [-8.58934736e+02, -2.63700368e+01],\n",
       "       [-8.60206630e+02,  7.46892761e+01],\n",
       "       [-8.60947517e+02, -2.69498782e+01],\n",
       "       [-8.61934722e+02, -2.63777829e+01],\n",
       "       [-8.62970815e+02, -1.20702948e+01]])"
      ]
     },
     "execution_count": 53,
     "metadata": {},
     "output_type": "execute_result"
    }
   ],
   "source": [
    "X_test_pca"
   ]
  },
  {
   "cell_type": "code",
   "execution_count": null,
   "id": "405bd2dc",
   "metadata": {
    "scrolled": true
   },
   "outputs": [],
   "source": [
    "test_data['relatives'] = test_data.SibSp + test_data.Parch\n",
    "test_data.describe()"
   ]
  },
  {
   "cell_type": "code",
   "execution_count": null,
   "id": "48155b16",
   "metadata": {},
   "outputs": [],
   "source": [
    "train_data.drop(['SibSp', 'Parch'], axis=1)\n",
    "test_data.drop(['SibSp', 'Parch'], axis=1)"
   ]
  },
  {
   "cell_type": "markdown",
   "id": "e20f40e9",
   "metadata": {},
   "source": [
    "## 5. Explore many different models"
   ]
  },
  {
   "cell_type": "markdown",
   "id": "fefa01b6",
   "metadata": {},
   "source": [
    "The most popular classification algorithms are:\n",
    "- Logistic Regression\n",
    "- Naive Bayes\n",
    "- K-Nearest Neighbors\n",
    "- Decision Tree\n",
    "- Support Vector Machines (SVM)\n",
    "- Stochastic Gradient Descent (SGD)\n",
    "\n",
    "Previous submission was done with RandomForestClassifier (Tutorial) and the Public Score was __0.77511__"
   ]
  },
  {
   "cell_type": "code",
   "execution_count": null,
   "id": "24dd553b",
   "metadata": {},
   "outputs": [],
   "source": [
    "X_train = train_data.drop(['Survived', 'age_group'], axis=1)\n",
    "X_test = test_data"
   ]
  },
  {
   "cell_type": "code",
   "execution_count": null,
   "id": "5f816429",
   "metadata": {
    "scrolled": false
   },
   "outputs": [],
   "source": [
    "X_train.head()"
   ]
  },
  {
   "cell_type": "code",
   "execution_count": null,
   "id": "32c1e54b",
   "metadata": {},
   "outputs": [],
   "source": [
    "X_test.head()"
   ]
  },
  {
   "cell_type": "code",
   "execution_count": null,
   "id": "55efff64",
   "metadata": {
    "scrolled": true
   },
   "outputs": [],
   "source": [
    "y_train = train_data['Survived']\n",
    "y_train.head()"
   ]
  },
  {
   "cell_type": "markdown",
   "id": "ceaa40c3",
   "metadata": {},
   "source": [
    "### Logistic Regression"
   ]
  },
  {
   "cell_type": "code",
   "execution_count": null,
   "id": "4b31a978",
   "metadata": {},
   "outputs": [],
   "source": [
    "from sklearn.linear_model import LogisticRegression"
   ]
  },
  {
   "cell_type": "code",
   "execution_count": null,
   "id": "9960caf2",
   "metadata": {},
   "outputs": [],
   "source": [
    "log_reg = LogisticRegression()\n",
    "log_reg.fit(X_train, y_train)"
   ]
  },
  {
   "cell_type": "code",
   "execution_count": null,
   "id": "71c84112",
   "metadata": {},
   "outputs": [],
   "source": [
    "y_predict = log_reg.predict(X_test)\n",
    "y_predict"
   ]
  },
  {
   "cell_type": "code",
   "execution_count": null,
   "id": "4e817298",
   "metadata": {},
   "outputs": [],
   "source": [
    "y_predict.sum()"
   ]
  },
  {
   "cell_type": "code",
   "execution_count": null,
   "id": "9ad6443e",
   "metadata": {},
   "outputs": [],
   "source": [
    "y_predict = pd.DataFrame(data={'PassengerId' : X_test['PassengerId'], 'Survived' : y_predict})\n",
    "y_predict.head()"
   ]
  },
  {
   "cell_type": "code",
   "execution_count": null,
   "id": "e2170094",
   "metadata": {},
   "outputs": [],
   "source": [
    "y_predict.tail()"
   ]
  },
  {
   "cell_type": "code",
   "execution_count": null,
   "id": "74f3f481",
   "metadata": {},
   "outputs": [],
   "source": [
    "y_predict = y_predict.set_index('PassengerId')\n",
    "y_predict.head()"
   ]
  },
  {
   "cell_type": "code",
   "execution_count": null,
   "id": "02740580",
   "metadata": {},
   "outputs": [],
   "source": [
    "# Prepare submission file\n",
    "output = y_predict\n",
    "output.to_csv('submission.csv', index=True)\n",
    "print(\"Your submission was successfully saved!\")"
   ]
  },
  {
   "cell_type": "markdown",
   "id": "e32a498b",
   "metadata": {},
   "source": [
    "The result achieved was __0.75837__. Worse value than obtained with RandomForest in the tutorial example __0.77511__."
   ]
  },
  {
   "cell_type": "markdown",
   "id": "87e01ad4",
   "metadata": {},
   "source": [
    "### Naive Bayes"
   ]
  },
  {
   "cell_type": "code",
   "execution_count": null,
   "id": "c1460111",
   "metadata": {},
   "outputs": [],
   "source": [
    "from sklearn.naive_bayes import GaussianNB"
   ]
  },
  {
   "cell_type": "code",
   "execution_count": null,
   "id": "338047a1",
   "metadata": {},
   "outputs": [],
   "source": [
    "gnb = GaussianNB()\n",
    "gnb.fit(X_train, y_train)"
   ]
  },
  {
   "cell_type": "code",
   "execution_count": null,
   "id": "b4c915f8",
   "metadata": {},
   "outputs": [],
   "source": [
    "y_predict = gnb.predict(X_test)\n",
    "y_predict"
   ]
  },
  {
   "cell_type": "code",
   "execution_count": null,
   "id": "07f53f33",
   "metadata": {},
   "outputs": [],
   "source": [
    "y_predict.sum()"
   ]
  },
  {
   "cell_type": "code",
   "execution_count": null,
   "id": "83eeaa3a",
   "metadata": {},
   "outputs": [],
   "source": [
    "y_predict = pd.DataFrame(data={'PassengerId' : X_test['PassengerId'], 'Survived' : y_predict})\n",
    "y_predict.head()"
   ]
  },
  {
   "cell_type": "code",
   "execution_count": null,
   "id": "9718b551",
   "metadata": {},
   "outputs": [],
   "source": [
    "y_predict = y_predict.set_index('PassengerId')\n",
    "y_predict.head()"
   ]
  },
  {
   "cell_type": "code",
   "execution_count": null,
   "id": "05068e21",
   "metadata": {},
   "outputs": [],
   "source": [
    "# Prepare submission file\n",
    "output = y_predict\n",
    "output.to_csv('submission.csv', index=True)\n",
    "print(\"Your submission was successfully saved!\")"
   ]
  },
  {
   "cell_type": "markdown",
   "id": "45bfb712",
   "metadata": {},
   "source": [
    "Even worse score __0.72727__. Recopilation of scores until now:\n",
    "- Tutorial with RandomForest: _0.77511_\n",
    "- Logistic Regression: _0.75837_.\n",
    "- Gaussian Naive Bayes: __0.72727__.\n"
   ]
  },
  {
   "cell_type": "markdown",
   "id": "8571aef1",
   "metadata": {},
   "source": [
    "### K-Nearest Neighbors"
   ]
  },
  {
   "cell_type": "code",
   "execution_count": null,
   "id": "9c9827d9",
   "metadata": {},
   "outputs": [],
   "source": [
    "from sklearn.neighbors import KNeighborsClassifier"
   ]
  },
  {
   "cell_type": "code",
   "execution_count": null,
   "id": "993ec43d",
   "metadata": {},
   "outputs": [],
   "source": [
    "knc = KNeighborsClassifier()\n",
    "knc.fit(X_train, y_train)"
   ]
  },
  {
   "cell_type": "code",
   "execution_count": null,
   "id": "0a5a1242",
   "metadata": {},
   "outputs": [],
   "source": [
    "y_predict = knc.predict(X_test)\n",
    "y_predict"
   ]
  },
  {
   "cell_type": "code",
   "execution_count": null,
   "id": "8e476221",
   "metadata": {},
   "outputs": [],
   "source": [
    "y_predict.sum()"
   ]
  },
  {
   "cell_type": "code",
   "execution_count": null,
   "id": "7f537fa4",
   "metadata": {},
   "outputs": [],
   "source": [
    "y_predict = pd.DataFrame(data={'PassengerId' : X_test['PassengerId'], 'Survived' : y_predict})\n",
    "y_predict.head()"
   ]
  },
  {
   "cell_type": "code",
   "execution_count": null,
   "id": "b1fa9f25",
   "metadata": {},
   "outputs": [],
   "source": [
    "y_predict = y_predict.set_index('PassengerId')\n",
    "y_predict.head()"
   ]
  },
  {
   "cell_type": "code",
   "execution_count": null,
   "id": "40727bcf",
   "metadata": {},
   "outputs": [],
   "source": [
    "# Prepare submission file\n",
    "output = y_predict\n",
    "output.to_csv('submission.csv', index=True)\n",
    "print(\"Your submission was successfully saved!\")"
   ]
  },
  {
   "cell_type": "markdown",
   "id": "687f8bca",
   "metadata": {},
   "source": [
    "Even worse __0.66267__.Recopilation of scores until now:\n",
    "\n",
    "- Tutorial with RandomForest: _0.77511_.\n",
    "- Logistic Regression: _0.75837_.\n",
    "- Gaussian Naive Bayes: _0.72727_.\n",
    "- K-Nearest Neighbour: __0.66267__\n"
   ]
  },
  {
   "cell_type": "markdown",
   "id": "37040187",
   "metadata": {},
   "source": [
    "### Decision Tree"
   ]
  },
  {
   "cell_type": "code",
   "execution_count": null,
   "id": "3d343a69",
   "metadata": {},
   "outputs": [],
   "source": [
    "from sklearn.tree import DecisionTreeClassifier"
   ]
  },
  {
   "cell_type": "code",
   "execution_count": null,
   "id": "3aafd975",
   "metadata": {},
   "outputs": [],
   "source": [
    "dtc = DecisionTreeClassifier()\n",
    "dtc.fit(X_train, y_train)"
   ]
  },
  {
   "cell_type": "code",
   "execution_count": null,
   "id": "c1061584",
   "metadata": {},
   "outputs": [],
   "source": [
    "y_predict = dtc.predict(X_test)\n",
    "y_predict"
   ]
  },
  {
   "cell_type": "code",
   "execution_count": null,
   "id": "ca01a20b",
   "metadata": {},
   "outputs": [],
   "source": [
    "y_predict.sum()"
   ]
  },
  {
   "cell_type": "code",
   "execution_count": null,
   "id": "8ff2f05c",
   "metadata": {},
   "outputs": [],
   "source": [
    "y_predict = pd.DataFrame(data={'PassengerId' : X_test['PassengerId'], 'Survived' : y_predict})\n",
    "y_predict.head()"
   ]
  },
  {
   "cell_type": "code",
   "execution_count": null,
   "id": "682d7e23",
   "metadata": {},
   "outputs": [],
   "source": [
    "y_predict = y_predict.set_index('PassengerId')\n",
    "y_predict.head()"
   ]
  },
  {
   "cell_type": "code",
   "execution_count": null,
   "id": "0ea057b7",
   "metadata": {},
   "outputs": [],
   "source": [
    "# Prepare submission file\n",
    "output = y_predict\n",
    "output.to_csv('submission.csv', index=True)\n",
    "print(\"Your submission was successfully saved!\")"
   ]
  },
  {
   "cell_type": "markdown",
   "id": "1bcce053",
   "metadata": {},
   "source": [
    "A little bit better, but worse than tutorial __0.76555__.Recopilation of scores until now:\n",
    "\n",
    "- Tutorial with RandomForest: _0.77511_.\n",
    "- Logistic Regression: _0.75837_.\n",
    "- Gaussian Naive Bayes: _0.72727_.\n",
    "- K-Nearest Neighbour: _0.66267_.\n",
    "- Decission Tree Classifier __0.76555__.\n"
   ]
  },
  {
   "cell_type": "markdown",
   "id": "c6754f82",
   "metadata": {},
   "source": [
    "### Support Vector Machines (SVM)"
   ]
  },
  {
   "cell_type": "code",
   "execution_count": null,
   "id": "c305a4e0",
   "metadata": {},
   "outputs": [],
   "source": [
    "from sklearn.svm import SVC"
   ]
  },
  {
   "cell_type": "code",
   "execution_count": null,
   "id": "0e917248",
   "metadata": {},
   "outputs": [],
   "source": [
    "svm_clf = SVC()\n",
    "svm_clf.fit(X_train, y_train)"
   ]
  },
  {
   "cell_type": "code",
   "execution_count": null,
   "id": "734eb22e",
   "metadata": {},
   "outputs": [],
   "source": [
    "y_predict = svm_clf.predict(X_test)\n",
    "y_predict"
   ]
  },
  {
   "cell_type": "code",
   "execution_count": null,
   "id": "4382e9b1",
   "metadata": {},
   "outputs": [],
   "source": [
    "y_predict.sum()"
   ]
  },
  {
   "cell_type": "code",
   "execution_count": null,
   "id": "75cb9d6c",
   "metadata": {},
   "outputs": [],
   "source": [
    "y_predict = pd.DataFrame(data={'PassengerId' : X_test['PassengerId'], 'Survived' : y_predict})\n",
    "y_predict.head()"
   ]
  },
  {
   "cell_type": "code",
   "execution_count": null,
   "id": "4b3a28e8",
   "metadata": {},
   "outputs": [],
   "source": [
    "y_predict = y_predict.set_index('PassengerId')\n",
    "y_predict.head()"
   ]
  },
  {
   "cell_type": "code",
   "execution_count": null,
   "id": "d497dba6",
   "metadata": {},
   "outputs": [],
   "source": [
    "# Prepare submission file\n",
    "output = y_predict\n",
    "output.to_csv('submission.csv', index=True)\n",
    "print(\"Your submission was successfully saved!\")"
   ]
  },
  {
   "cell_type": "markdown",
   "id": "402f09d5",
   "metadata": {},
   "source": [
    "Worse score until now __0.63397__.Recopilation of scores until now:\n",
    "\n",
    "- Tutorial with RandomForest: _0.77511_.\n",
    "- Logistic Regression: _0.75837_.\n",
    "- Gaussian Naive Bayes: _0.72727_.\n",
    "- K-Nearest Neighbour: _0.66267_.\n",
    "- Decission Tree Classifier _0.76555_.\n",
    "- Support Vector Classifier: __0.63397__.\n"
   ]
  },
  {
   "cell_type": "markdown",
   "id": "dd5c7347",
   "metadata": {},
   "source": [
    "### Stochastic Gradient Descent (SGD)"
   ]
  },
  {
   "cell_type": "code",
   "execution_count": null,
   "id": "a34ac5ed",
   "metadata": {},
   "outputs": [],
   "source": [
    "from sklearn.linear_model import SGDClassifier"
   ]
  },
  {
   "cell_type": "code",
   "execution_count": null,
   "id": "f6c14c2c",
   "metadata": {},
   "outputs": [],
   "source": [
    "sgd_clf = SGDClassifier()\n",
    "sgd_clf.fit(X_train, y_train)"
   ]
  },
  {
   "cell_type": "code",
   "execution_count": null,
   "id": "30f81600",
   "metadata": {},
   "outputs": [],
   "source": [
    "y_predict = sgd_clf.predict(X_test)\n",
    "y_predict"
   ]
  },
  {
   "cell_type": "code",
   "execution_count": null,
   "id": "33a317d5",
   "metadata": {},
   "outputs": [],
   "source": [
    "y_predict.sum()"
   ]
  },
  {
   "cell_type": "code",
   "execution_count": null,
   "id": "f36f34c2",
   "metadata": {},
   "outputs": [],
   "source": [
    "y_predict = pd.DataFrame(data={'PassengerId' : X_test['PassengerId'], 'Survived' : y_predict})\n",
    "y_predict.head()"
   ]
  },
  {
   "cell_type": "code",
   "execution_count": null,
   "id": "218e22b9",
   "metadata": {},
   "outputs": [],
   "source": [
    "y_predict = y_predict.set_index('PassengerId')\n",
    "y_predict.head()"
   ]
  },
  {
   "cell_type": "code",
   "execution_count": null,
   "id": "ddb65382",
   "metadata": {},
   "outputs": [],
   "source": [
    "# Prepare submission file\n",
    "output = y_predict\n",
    "output.to_csv('submission.csv', index=True)\n",
    "print(\"Your submission was successfully saved!\")"
   ]
  },
  {
   "cell_type": "markdown",
   "id": "018242cb",
   "metadata": {},
   "source": [
    "Worse value ever __0.38755__.Recopilation of scores until now:\n",
    "\n",
    "- Tutorial with RandomForest: _0.77511_.\n",
    "- Logistic Regression: _0.75837_.\n",
    "- Gaussian Naive Bayes: _0.72727_.\n",
    "- K-Nearest Neighbour: _0.66267_.\n",
    "- Decission Tree Classifier _0.76555_.\n",
    "- Support Vector Classifier: _0.63397_.\n",
    "- Stochastic Gradien Descend: __0.38755__.\n"
   ]
  },
  {
   "cell_type": "markdown",
   "id": "10eb56df",
   "metadata": {},
   "source": [
    "#### New scenario\n",
    "Results are no good and no enough to achieve our target (score up to 0.98).\n",
    "\n",
    "So we are going to prepare a benchmark to make test in local before to submit the option."
   ]
  },
  {
   "cell_type": "code",
   "execution_count": 55,
   "id": "41bef7ad",
   "metadata": {},
   "outputs": [],
   "source": [
    "# import models we want to use\n",
    "from sklearn.ensemble import RandomForestClassifier, AdaBoostClassifier, GradientBoostingClassifier\n",
    "from sklearn.ensemble import VotingClassifier\n",
    "from sklearn.linear_model import LogisticRegression\n",
    "from sklearn.svm import SVC\n",
    "from sklearn.linear_model import SGDClassifier\n",
    "from sklearn.tree import DecisionTreeClassifier\n",
    "from sklearn.neighbors import KNeighborsClassifier\n",
    "from sklearn.model_selection import StratifiedShuffleSplit\n",
    "from sklearn.metrics import accuracy_score, log_loss\n",
    "from sklearn.naive_bayes import GaussianNB\n",
    "from sklearn.discriminant_analysis import LinearDiscriminantAnalysis, QuadraticDiscriminantAnalysis\n",
    "\n",
    "import matplotlib.pyplot as plt\n",
    "import seaborn as sns"
   ]
  },
  {
   "cell_type": "code",
   "execution_count": 56,
   "id": "82dfc933",
   "metadata": {},
   "outputs": [],
   "source": [
    "rf_clf = RandomForestClassifier()\n",
    "ab_clf = AdaBoostClassifier()\n",
    "gb_clf = GradientBoostingClassifier()\n",
    "lr_clf = LogisticRegression()\n",
    "sgd_clf = SGDClassifier()\n",
    "svm_clf = SVC()\n",
    "sgd_clf = SGDClassifier()\n",
    "dt_clf = DecisionTreeClassifier()\n",
    "kn_clf = KNeighborsClassifier()\n",
    "gnb_clf = GaussianNB()\n",
    "lda_clf = LinearDiscriminantAnalysis()\n",
    "qda_clf = QuadraticDiscriminantAnalysis()\n",
    "\n",
    "classifiers = [\n",
    "    RandomForestClassifier(),\n",
    "    AdaBoostClassifier(),\n",
    "    GradientBoostingClassifier(),\n",
    "    LogisticRegression(n_jobs=10),\n",
    "    SGDClassifier(),\n",
    "    SVC(),\n",
    "    DecisionTreeClassifier(),\n",
    "    KNeighborsClassifier(),\n",
    "    GaussianNB(),\n",
    "    LinearDiscriminantAnalysis(),\n",
    "    QuadraticDiscriminantAnalysis()\n",
    "]\n",
    "\n",
    "log_cols = [\"Classifier\", \"Accuracy\"]\n",
    "log = pd.DataFrame(columns=log_cols)"
   ]
  },
  {
   "cell_type": "markdown",
   "id": "41bd0810",
   "metadata": {},
   "source": [
    "First of all prepare my train data to check predictions. We are working with surpervised models, so we have to use labels to verify accuracy."
   ]
  },
  {
   "cell_type": "code",
   "execution_count": 57,
   "id": "31182a1c",
   "metadata": {
    "scrolled": false
   },
   "outputs": [
    {
     "ename": "NameError",
     "evalue": "name 'y_train' is not defined",
     "output_type": "error",
     "traceback": [
      "\u001b[0;31m---------------------------------------------------------------------------\u001b[0m",
      "\u001b[0;31mNameError\u001b[0m                                 Traceback (most recent call last)",
      "\u001b[0;32m/tmp/ipykernel_3095/486437326.py\u001b[0m in \u001b[0;36m<module>\u001b[0;34m\u001b[0m\n\u001b[1;32m      3\u001b[0m \u001b[0;34m\u001b[0m\u001b[0m\n\u001b[1;32m      4\u001b[0m \u001b[0mX\u001b[0m \u001b[0;34m=\u001b[0m \u001b[0mX_train\u001b[0m\u001b[0;34m\u001b[0m\u001b[0;34m\u001b[0m\u001b[0m\n\u001b[0;32m----> 5\u001b[0;31m \u001b[0my\u001b[0m \u001b[0;34m=\u001b[0m \u001b[0my_train\u001b[0m\u001b[0;34m\u001b[0m\u001b[0;34m\u001b[0m\u001b[0m\n\u001b[0m\u001b[1;32m      6\u001b[0m \u001b[0;34m\u001b[0m\u001b[0m\n\u001b[1;32m      7\u001b[0m \u001b[0macc_dict\u001b[0m \u001b[0;34m=\u001b[0m \u001b[0;34m{\u001b[0m\u001b[0;34m}\u001b[0m\u001b[0;34m\u001b[0m\u001b[0;34m\u001b[0m\u001b[0m\n",
      "\u001b[0;31mNameError\u001b[0m: name 'y_train' is not defined"
     ]
    }
   ],
   "source": [
    "splits = 20\n",
    "sss = StratifiedShuffleSplit(n_splits=splits, test_size=0.1, random_state=0)\n",
    "\n",
    "X = X_train\n",
    "y = y_train\n",
    "\n",
    "acc_dict = {}\n",
    "\n",
    "for train_index, test_index in sss.split(X,y):\n",
    "    X_tr, X_ts = X.iloc[train_index], X.iloc[test_index]\n",
    "    y_tr, y_ts = y.iloc[train_index], y.iloc[test_index]\n",
    "    \n",
    "    for clf in classifiers:\n",
    "        name = clf.__class__.__name__\n",
    "        clf.fit(X_tr, y_tr)\n",
    "        train_predictions = clf.predict(X_ts)\n",
    "        acc = accuracy_score(y_ts, train_predictions)        \n",
    "        if name in acc_dict:\n",
    "            acc_dict[name] += acc\n",
    "        else:\n",
    "            acc_dict[name] = acc\n",
    "                \n",
    "        \n",
    "for clf in acc_dict:\n",
    "    acc_dict[clf] = acc_dict[clf] / splits\n",
    "    log_entry = pd.DataFrame([[clf, acc_dict[clf]]], columns=log_cols)\n",
    "    log = log.append(log_entry)\n",
    "    \n",
    "plt.xlabel('Accuracy')\n",
    "plt.title('Classifier Accuracy')\n",
    "\n",
    "sns.set_color_codes(\"muted\")\n",
    "sns.barplot(x='Accuracy', y='Classifier', data=log, color='b')"
   ]
  },
  {
   "cell_type": "code",
   "execution_count": null,
   "id": "38894f20",
   "metadata": {},
   "outputs": [],
   "source": [
    "log"
   ]
  },
  {
   "cell_type": "markdown",
   "id": "5d6b63cb",
   "metadata": {},
   "source": [
    "#### Best candidate \"GradientBoostingClassifier\""
   ]
  },
  {
   "cell_type": "markdown",
   "id": "40102c4e",
   "metadata": {},
   "source": [
    "### GradientBoostingClassifier"
   ]
  },
  {
   "cell_type": "code",
   "execution_count": null,
   "id": "1ee47a87",
   "metadata": {},
   "outputs": [],
   "source": [
    "X_train = train_data.drop(['Survived', 'age_group', 'SibSp','Parch'], axis=1)\n",
    "X_test = test_data.drop(['SibSp', 'Parch'], axis=1)\n",
    "y_train = train_data['Survived']"
   ]
  },
  {
   "cell_type": "code",
   "execution_count": null,
   "id": "732ba2ec",
   "metadata": {},
   "outputs": [],
   "source": [
    "X_test.head()"
   ]
  },
  {
   "cell_type": "code",
   "execution_count": null,
   "id": "4868915f",
   "metadata": {},
   "outputs": [],
   "source": [
    "bgc_clf = GradientBoostingClassifier()\n",
    "bgc_clf.fit(X_train, y_train)"
   ]
  },
  {
   "cell_type": "code",
   "execution_count": null,
   "id": "a13a1da4",
   "metadata": {},
   "outputs": [],
   "source": [
    "y_predict = bgc_clf.predict(X_test)\n",
    "y_predict"
   ]
  },
  {
   "cell_type": "code",
   "execution_count": null,
   "id": "433f42ae",
   "metadata": {},
   "outputs": [],
   "source": [
    "y_predict.sum()"
   ]
  },
  {
   "cell_type": "code",
   "execution_count": null,
   "id": "9d474bcf",
   "metadata": {},
   "outputs": [],
   "source": [
    "y_predict = pd.DataFrame(data={'PassengerId' : X_test['PassengerId'], 'Survived' : y_predict})\n",
    "y_predict.head()"
   ]
  },
  {
   "cell_type": "code",
   "execution_count": null,
   "id": "200908d9",
   "metadata": {},
   "outputs": [],
   "source": [
    "y_predict = y_predict.set_index('PassengerId')\n",
    "y_predict.head()"
   ]
  },
  {
   "cell_type": "code",
   "execution_count": null,
   "id": "5174c482",
   "metadata": {},
   "outputs": [],
   "source": [
    "# Prepare submission file\n",
    "output = y_predict\n",
    "output.to_csv('submission.csv', index=True)\n",
    "print(\"Your submission was successfully saved!\")"
   ]
  },
  {
   "cell_type": "markdown",
   "id": "0d596e66",
   "metadata": {},
   "source": [
    "Better value until know, out of tutorial __0.77033__.Recopilation of scores until now:\n",
    "\n",
    "- Random Forest Classifier: _0.77511_.\n",
    "- Logistic Regression: _0.75837_.\n",
    "- Gaussian Naive Bayes: _0.72727_.\n",
    "- K-Nearest Neighbour: _0.66267_.\n",
    "- Decission Tree Classifier _0.76555_.\n",
    "- Support Vector Classifier: _0.63397_.\n",
    "- Stochastic Gradien Descend: _0.38755_.\n",
    "- Gradient Boosting Classifier: __0.77033__"
   ]
  },
  {
   "cell_type": "markdown",
   "id": "aa6e6695",
   "metadata": {},
   "source": [
    "Next steps to scale data\n"
   ]
  },
  {
   "cell_type": "code",
   "execution_count": null,
   "id": "7717a56d",
   "metadata": {},
   "outputs": [],
   "source": [
    "X_train.head()"
   ]
  },
  {
   "cell_type": "code",
   "execution_count": null,
   "id": "d1807b26",
   "metadata": {},
   "outputs": [],
   "source": [
    "X_test.head()"
   ]
  },
  {
   "cell_type": "code",
   "execution_count": null,
   "id": "8af28015",
   "metadata": {},
   "outputs": [],
   "source": [
    "X_train_tmp = pd.DataFrame(X_train)\n",
    "X_test_tmp = pd.DataFrame(X_test)"
   ]
  },
  {
   "cell_type": "code",
   "execution_count": null,
   "id": "38d82a97",
   "metadata": {},
   "outputs": [],
   "source": [
    "X_train_tmp[\"Age\"] = X_train_tmp[\"Age\"] / X_train_tmp[\"Age\"].max()\n",
    "X_train_tmp[\"SibSp\"] = X_train_tmp[\"SibSp\"] / X_train_tmp[\"SibSp\"].max()\n",
    "X_train_tmp[\"Parch\"] = X_train_tmp[\"Parch\"] / X_train_tmp[\"Parch\"].max()\n",
    "X_train_tmp[\"Fare\"] = X_train_tmp[\"Fare\"] / X_train_tmp[\"Fare\"].max()"
   ]
  },
  {
   "cell_type": "code",
   "execution_count": null,
   "id": "470b3ec0",
   "metadata": {},
   "outputs": [],
   "source": [
    "X_train_tmp.head()"
   ]
  },
  {
   "cell_type": "code",
   "execution_count": null,
   "id": "c18d5c82",
   "metadata": {},
   "outputs": [],
   "source": [
    "X_test_tmp[\"Age\"] = X_test_tmp[\"Age\"] / X_test_tmp[\"Age\"].max()\n",
    "X_test_tmp[\"SibSp\"] = X_test_tmp[\"SibSp\"] / X_test_tmp[\"SibSp\"].max()\n",
    "X_test_tmp[\"Parch\"] = X_test_tmp[\"Parch\"] / X_test_tmp[\"Parch\"].max()\n",
    "X_test_tmp[\"Fare\"] = X_test_tmp[\"Fare\"] / X_test_tmp[\"Fare\"].max()"
   ]
  },
  {
   "cell_type": "code",
   "execution_count": null,
   "id": "aa719893",
   "metadata": {},
   "outputs": [],
   "source": [
    "X_test_tmp.head()"
   ]
  },
  {
   "cell_type": "code",
   "execution_count": null,
   "id": "26a41786",
   "metadata": {},
   "outputs": [],
   "source": [
    "X_train = pd.DataFrame(X_train_tmp)\n",
    "X_test = pd.DataFrame(X_test_tmp)"
   ]
  },
  {
   "cell_type": "code",
   "execution_count": null,
   "id": "627a6f85",
   "metadata": {},
   "outputs": [],
   "source": [
    "type(X_train), type(X_test)"
   ]
  },
  {
   "cell_type": "code",
   "execution_count": null,
   "id": "439000ca",
   "metadata": {},
   "outputs": [],
   "source": [
    "X_train.head()"
   ]
  },
  {
   "cell_type": "code",
   "execution_count": null,
   "id": "5920eed6",
   "metadata": {},
   "outputs": [],
   "source": [
    "X_test.head()"
   ]
  },
  {
   "cell_type": "code",
   "execution_count": null,
   "id": "44b771fe",
   "metadata": {},
   "outputs": [],
   "source": [
    "X_train , y_train"
   ]
  },
  {
   "cell_type": "markdown",
   "id": "3e40f974",
   "metadata": {},
   "source": [
    "Now check same models as before with features standarized."
   ]
  },
  {
   "cell_type": "code",
   "execution_count": null,
   "id": "23db953f",
   "metadata": {
    "scrolled": false
   },
   "outputs": [],
   "source": [
    "splits = 20\n",
    "sss = StratifiedShuffleSplit(n_splits=splits, test_size=0.1, random_state=0)\n",
    "\n",
    "X = X_train\n",
    "y = y_train\n",
    "\n",
    "acc_dict = {}\n",
    "\n",
    "for train_index, test_index in sss.split(X,y):\n",
    "    X_tr, X_ts = X.iloc[train_index], X.iloc[test_index]\n",
    "    y_tr, y_ts = y.iloc[train_index], y.iloc[test_index]\n",
    "    \n",
    "    for clf in classifiers:\n",
    "        name = clf.__class__.__name__\n",
    "        clf.fit(X_tr, y_tr)\n",
    "        train_predictions = clf.predict(X_ts)\n",
    "        acc = accuracy_score(y_ts, train_predictions)        \n",
    "        if name in acc_dict:\n",
    "            acc_dict[name] += acc\n",
    "        else:\n",
    "            acc_dict[name] = acc\n",
    "                \n",
    "log = pd.DataFrame(columns=log_cols)\n",
    "\n",
    "for clf in acc_dict:\n",
    "    acc_dict[clf] = acc_dict[clf] / splits\n",
    "    log_entry = pd.DataFrame([[clf, acc_dict[clf]]], columns=log_cols)\n",
    "    log = log.append(log_entry)\n",
    "    \n",
    "plt.xlabel('Accuracy')\n",
    "plt.title('Classifier Accuracy')\n",
    "\n",
    "sns.set_color_codes(\"muted\")\n",
    "sns.barplot(x='Accuracy', y='Classifier', data=log, color='b')"
   ]
  },
  {
   "cell_type": "code",
   "execution_count": null,
   "id": "e4539d3a",
   "metadata": {},
   "outputs": [],
   "source": [
    "log"
   ]
  },
  {
   "cell_type": "markdown",
   "id": "24cf00d0",
   "metadata": {},
   "source": [
    "Best candidate \"RandomForestClassifier\""
   ]
  },
  {
   "cell_type": "markdown",
   "id": "e6d67a72",
   "metadata": {},
   "source": [
    "### Random Forest Classifier Scaled"
   ]
  },
  {
   "cell_type": "code",
   "execution_count": null,
   "id": "fc6c8478",
   "metadata": {},
   "outputs": [],
   "source": [
    "rfc_clf = RandomForestClassifier()\n",
    "rfc_clf.fit(X_train, y_train)"
   ]
  },
  {
   "cell_type": "code",
   "execution_count": null,
   "id": "1ddbd2b2",
   "metadata": {},
   "outputs": [],
   "source": [
    "y_predict = rfc_clf.predict(X_test)\n",
    "y_predict"
   ]
  },
  {
   "cell_type": "code",
   "execution_count": null,
   "id": "a2826ce3",
   "metadata": {},
   "outputs": [],
   "source": [
    "y_predict.sum()"
   ]
  },
  {
   "cell_type": "code",
   "execution_count": null,
   "id": "910502f1",
   "metadata": {},
   "outputs": [],
   "source": [
    "y_predict = pd.DataFrame(data={'PassengerId' : X_test['PassengerId'], 'Survived' : y_predict})\n",
    "y_predict.head()"
   ]
  },
  {
   "cell_type": "code",
   "execution_count": null,
   "id": "4477dd41",
   "metadata": {},
   "outputs": [],
   "source": [
    "y_predict = y_predict.set_index('PassengerId')\n",
    "y_predict.head()"
   ]
  },
  {
   "cell_type": "code",
   "execution_count": null,
   "id": "c24f6cb0",
   "metadata": {},
   "outputs": [],
   "source": [
    "# Prepare submission file\n",
    "output = y_predict\n",
    "output.to_csv('submission.csv', index=True)\n",
    "print(\"Your submission was successfully saved!\")"
   ]
  },
  {
   "cell_type": "markdown",
   "id": "f0a55232",
   "metadata": {},
   "source": [
    "Better value until know, out of tutorial __0.75837__.Recopilation of scores until now:\n",
    "\n",
    "- Random Forest Classifier: _0.77511_.\n",
    "- Logistic Regression: _0.75837_.\n",
    "- Gaussian Naive Bayes: _0.72727_.\n",
    "- K-Nearest Neighbour: _0.66267_.\n",
    "- Decission Tree Classifier _0.76555_.\n",
    "- Support Vector Classifier: _0.63397_.\n",
    "- Stochastic Gradien Descend: _0.38755_.\n",
    "- Gradient Boosting Classifier: _0.76076_\n",
    "- Random Forest Classifier Scaled: __0.75837__"
   ]
  },
  {
   "cell_type": "code",
   "execution_count": null,
   "id": "800fb708",
   "metadata": {},
   "outputs": [],
   "source": [
    "X_train"
   ]
  },
  {
   "cell_type": "code",
   "execution_count": null,
   "id": "3bbf1616",
   "metadata": {},
   "outputs": [],
   "source": [
    "X_train = train_data.drop(['Survived', 'age_group'], axis=1)\n",
    "X_test = test_data\n",
    "y_train = train_data['Survived']"
   ]
  },
  {
   "cell_type": "code",
   "execution_count": null,
   "id": "0acd0946",
   "metadata": {},
   "outputs": [],
   "source": [
    "from sklearn.preprocessing import StandardScaler\n",
    "std_scl = StandardScaler()"
   ]
  },
  {
   "cell_type": "code",
   "execution_count": null,
   "id": "4a2221f6",
   "metadata": {},
   "outputs": [],
   "source": [
    "col_names = ['Age']\n",
    "X_train_feat = X_train[col_names]\n",
    "X_test_feat = X_test[col_names]"
   ]
  },
  {
   "cell_type": "code",
   "execution_count": null,
   "id": "2157eed3",
   "metadata": {},
   "outputs": [],
   "source": [
    "X_train.describe()"
   ]
  },
  {
   "cell_type": "code",
   "execution_count": null,
   "id": "f66ff283",
   "metadata": {},
   "outputs": [],
   "source": [
    "X_test.describe()"
   ]
  },
  {
   "cell_type": "code",
   "execution_count": null,
   "id": "cc1f5538",
   "metadata": {},
   "outputs": [],
   "source": [
    "test_data.describe()"
   ]
  },
  {
   "cell_type": "code",
   "execution_count": null,
   "id": "eb00129c",
   "metadata": {},
   "outputs": [],
   "source": [
    "import pandas as pd\n",
    "from sklearn.tree import DecisionTreeClassifier\n",
    "\n",
    "train_data = pd.read_csv('./data/train.csv')\n",
    "test_data = pd.read_csv('./data/test.csv')\n",
    "\n",
    "survived = train_data['Survived']\n",
    "train_data.drop('Survived', axis=1, inplace=True)\n",
    "\n",
    "model = DecisionTreeClassifier()\n",
    "model.fit(train_data, survived)\n",
    "predictions = model.predict(test_data)\n",
    "\n",
    "print(predictions)"
   ]
  },
  {
   "cell_type": "code",
   "execution_count": null,
   "id": "b4194142",
   "metadata": {},
   "outputs": [],
   "source": []
  }
 ],
 "metadata": {
  "kernelspec": {
   "display_name": "Python 3 (ipykernel)",
   "language": "python",
   "name": "python3"
  },
  "language_info": {
   "codemirror_mode": {
    "name": "ipython",
    "version": 3
   },
   "file_extension": ".py",
   "mimetype": "text/x-python",
   "name": "python",
   "nbconvert_exporter": "python",
   "pygments_lexer": "ipython3",
   "version": "3.8.3"
  }
 },
 "nbformat": 4,
 "nbformat_minor": 5
}
